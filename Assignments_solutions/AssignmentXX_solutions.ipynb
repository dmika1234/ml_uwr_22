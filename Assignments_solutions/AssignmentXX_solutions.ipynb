{
 "cells": [
  {
   "cell_type": "markdown",
   "metadata": {
    "id": "6JGmPStV4yiw"
   },
   "source": [
    "# Lab Assignment 10"
   ]
  },
  {
   "cell_type": "code",
   "execution_count": 3,
   "metadata": {
    "id": "NsnbuW1uzVcC"
   },
   "outputs": [],
   "source": [
    "# Please note that this code needs only to be run in a fresh runtime.\n",
    "# However, it can be rerun afterwards too.\n",
    "!pip install -q gdown httpimport\n"
   ]
  },
  {
   "cell_type": "code",
   "execution_count": 5,
   "metadata": {
    "id": "a4TIgG0bwlpS"
   },
   "outputs": [],
   "source": [
    "# Standard IPython notebook imports\n",
    "%matplotlib inline\n",
    "\n",
    "import os\n",
    "from io import StringIO\n",
    "\n",
    "import httpimport\n",
    "import matplotlib.pyplot as plt\n",
    "import numpy as np\n",
    "import pandas as pd\n",
    "import scipy.stats as sstats\n",
    "import seaborn as sns\n",
    "import sklearn.ensemble\n",
    "import sklearn.tree\n",
    "from tqdm import tqdm_notebook\n",
    "\n",
    "# In this way we can import functions straight from github\n",
    "with httpimport.github_repo(\n",
    "    \"janchorowski\", \"nn_assignments\", module=\"common\", branch=\"nn18\"\n",
    "):\n",
    "    from common.plotting import plot_mat\n",
    "\n",
    "sns.set_style(\"whitegrid\")\n",
    "\n"
   ]
  },
  {
   "cell_type": "code",
   "execution_count": 9,
   "metadata": {
    "id": "jVAFTS46MRdA"
   },
   "outputs": [],
   "source": [
    "# @title Data Loading\n",
    "# We will load a few commonly used datasets:\n",
    "# - mushroom\n",
    "# - iris\n",
    "# - adult\n",
    "# - congressional voting\n",
    "# - german credit\n",
    "\n",
    "\n",
    "# 1. Mushroom dataset\n",
    "# https://archive.ics.uci.edu/ml/datasets/mushroom\n",
    "# only categorical attributes with missing values\n",
    "columns = [\n",
    "    \"target\",\n",
    "    \"cap-shape\",\n",
    "    \"cap-surface\",\n",
    "    \"cap-color\",\n",
    "    \"bruises?\",\n",
    "    \"odor\",\n",
    "    \"gill-attachment\",\n",
    "    \"gill-spacing\",\n",
    "    \"gill-size\",\n",
    "    \"gill-color\",\n",
    "    \"stalk-shape\",\n",
    "    \"stalk-root\",\n",
    "    \"stalk-surface-above-ring\",\n",
    "    \"stalk-surface-below-ring\",\n",
    "    \"stalk-color-above-ring\",\n",
    "    \"stalk-color-below-ring\",\n",
    "    \"veil-type\",\n",
    "    \"veil-color\",\n",
    "    \"ring-number\",\n",
    "    \"ring-type\",\n",
    "    \"spore-print-color\",\n",
    "    \"population\",\n",
    "    \"habitat\",\n",
    "]\n",
    "\n",
    "# Use read_csv to load the data.\n",
    "url = \"http://archive.ics.uci.edu/ml/machine-learning-databases/mushroom/agaricus-lepiota.data\"\n",
    "mushroom_df = pd.read_csv(url, header=None, names=columns)\n",
    "mushroom_idx_df = mushroom_df.reset_index()\n",
    "\n",
    "# 2. Iris\n",
    "iris_url = \"https://archive.ics.uci.edu/ml/machine-learning-databases/iris/iris.data\"\n",
    "iris_df = pd.read_csv(\n",
    "    iris_url,\n",
    "    header=None,\n",
    "    names=[\"sepal_length\", \"sepal_width\", \"petal_length\", \"petal_width\", \"target\"],\n",
    ")\n"
   ]
  },
  {
   "cell_type": "markdown",
   "metadata": {
    "id": "r7YoGCAiA0jA"
   },
   "source": [
    "# Problem 1 [2p] \n",
    "\n",
    "Download a categorical dataset, such as the [mushroom](https://archive.ics.uci.edu/ml/datasets/mushroom) from UCI and try to find the most predictive variables: "
   ]
  },
  {
   "cell_type": "markdown",
   "metadata": {
    "id": "yzwGKVgD2pa5"
   },
   "source": [
    "### Implement mutual information [1p]\n",
    "\n",
    "Implement the function `entropy` to compute the entropy of a column of the dataset.\n",
    "\n",
    "The [entropy](https://en.wikipedia.org/wiki/Entropy_(information_theory)) of a discrete variable is defined to be:\n",
    "\n",
    "$$H(X) = -\\sum_x p_X(x) \\log_2 p_X(x).$$\n",
    "\n",
    "A good in tutorial is given by Chris Olah: https://colah.github.io/posts/2015-09-Visual-Information/.\n",
    "\n",
    "\n",
    "When $X$ is a discrete random variable, we can estimate the probabilities with counts:\n",
    "\n",
    "$$p_X(x) = \\frac{\\text{number of instances where }X=x}{\\text{total number of instances}}.$$\n",
    "\n",
    "\n",
    "Hint: the following `pandas` functions may be useful:\n",
    "- `count`\n",
    "- `value_count`\n",
    "\n",
    "Then use the dataframe's `apply` function to compute the entropy of all columns."
   ]
  },
  {
   "cell_type": "code",
   "execution_count": 10,
   "metadata": {
    "colab": {
     "base_uri": "https://localhost:8080/"
    },
    "id": "om2RJ5EDx9ev",
    "outputId": "9f5d9655-59a5-48fe-f741-9c6b0d652f4b"
   },
   "outputs": [
    {
     "data": {
      "text/plain": [
       "target                      0.999068\n",
       "cap-shape                   1.652889\n",
       "cap-surface                 1.575486\n",
       "cap-color                   2.510143\n",
       "bruises?                    0.979327\n",
       "odor                        2.319414\n",
       "gill-attachment             0.173129\n",
       "gill-spacing                0.637878\n",
       "gill-size                   0.892256\n",
       "gill-color                  3.030433\n",
       "stalk-shape                 0.986927\n",
       "stalk-root                  1.822922\n",
       "stalk-surface-above-ring    1.221348\n",
       "stalk-surface-below-ring    1.399135\n",
       "stalk-color-above-ring      1.936809\n",
       "stalk-color-below-ring      1.978163\n",
       "veil-type                  -0.000000\n",
       "veil-color                  0.196238\n",
       "ring-number                 0.420680\n",
       "ring-type                   1.535121\n",
       "spore-print-color           2.203227\n",
       "population                  2.003398\n",
       "habitat                     2.274747\n",
       "dtype: float64"
      ]
     },
     "execution_count": 10,
     "metadata": {},
     "output_type": "execute_result"
    }
   ],
   "source": [
    "def entropy(series):\n",
    "    probs = series.value_counts() / series.count()\n",
    "    log_probs = np.log2(probs)\n",
    "    return -np.sum(probs * log_probs)\n",
    "\n",
    "mushroom_df.apply(entropy)"
   ]
  },
  {
   "cell_type": "markdown",
   "metadata": {
    "id": "1hJ_NNX85M2w"
   },
   "source": [
    "Implement the conditional entropy computation\n",
    "\n",
    "$$H(Y|X) = \\sum_x p_X(x) H(Y|x) = \\sum_x p_X(x) \\sum_y p_Y(y|x) \\log_2 p_Y(y|x)$$\n",
    "\n",
    "Hint 1: the above formula can be computed as follows:\n",
    "1. split the data by the values of $X$\n",
    "2. for each value $x$ that $X$ takes, compute the entropy of $Y$\n",
    "3. average the entropies, weighing them by how frequently the value $x$ occured.\n",
    "\n",
    "Hint 2: helpful pandas constructs are:\n",
    "- `groupby` and `agg`\n",
    "- you can aggregate a grouping using your own custom functions\n"
   ]
  },
  {
   "cell_type": "code",
   "execution_count": 11,
   "metadata": {
    "colab": {
     "base_uri": "https://localhost:8080/"
    },
    "id": "ffqvCfHI_9Wv",
    "outputId": "f8014aed-8d20-46eb-861c-03680ba67b1c"
   },
   "outputs": [
    {
     "data": {
      "text/plain": [
       "e    4208\n",
       "p    3916\n",
       "Name: target, dtype: int64"
      ]
     },
     "execution_count": 11,
     "metadata": {},
     "output_type": "execute_result"
    }
   ],
   "source": [
    "mushroom_df['target'].value_counts()"
   ]
  },
  {
   "cell_type": "code",
   "execution_count": 12,
   "metadata": {
    "colab": {
     "base_uri": "https://localhost:8080/"
    },
    "id": "GeZtf40nxlXm",
    "outputId": "d2d5c392-cc43-4f63-8b1c-878df6fc2378"
   },
   "outputs": [
    {
     "data": {
      "text/plain": [
       "n    3528\n",
       "f    2160\n",
       "y     576\n",
       "s     576\n",
       "a     400\n",
       "l     400\n",
       "p     256\n",
       "c     192\n",
       "m      36\n",
       "Name: odor, dtype: int64"
      ]
     },
     "execution_count": 12,
     "metadata": {},
     "output_type": "execute_result"
    }
   ],
   "source": [
    "mushroom_df['odor'].value_counts()"
   ]
  },
  {
   "cell_type": "code",
   "execution_count": 13,
   "metadata": {
    "id": "zhj0P7u6TGok"
   },
   "outputs": [],
   "source": [
    "def cond_probability(X, Y):\n",
    "    x_given_y = pd.crosstab(X, Y, normalize='columns') # index means normalize over rows\n",
    "    return x_given_y"
   ]
  },
  {
   "cell_type": "code",
   "execution_count": 15,
   "metadata": {
    "colab": {
     "base_uri": "https://localhost:8080/"
    },
    "id": "8CjZK9pW_9Ww",
    "outputId": "5e862c8a-6ba1-4c0f-a3ef-fb72a993844f"
   },
   "outputs": [
    {
     "name": "stdout",
     "output_type": "stream",
     "text": [
      "target                   :\t -0.0\n",
      "cap-shape                :\t 0.95\n",
      "cap-surface              :\t 0.97\n",
      "cap-color                :\t 0.963\n",
      "bruises?                 :\t 0.807\n",
      "odor                     :\t 0.093\n",
      "gill-attachment          :\t 0.985\n",
      "gill-spacing             :\t 0.898\n",
      "gill-size                :\t 0.769\n",
      "gill-color               :\t 0.582\n",
      "stalk-shape              :\t 0.992\n",
      "stalk-root               :\t 0.864\n",
      "stalk-surface-above-ring :\t 0.714\n",
      "stalk-surface-below-ring :\t 0.727\n",
      "stalk-color-above-ring   :\t 0.745\n",
      "stalk-color-below-ring   :\t 0.758\n",
      "veil-type                :\t 0.999\n",
      "veil-color               :\t 0.975\n",
      "ring-number              :\t 0.961\n",
      "ring-type                :\t 0.681\n",
      "spore-print-color        :\t 0.518\n",
      "population               :\t 0.797\n",
      "habitat                  :\t 0.842\n"
     ]
    }
   ],
   "source": [
    "def cond_entropy(X, Y):\n",
    "    \"\"\"Compute the conditional H(X|Y) in dataframe df\n",
    "    Args:\n",
    "        X: series whose entropy we wish to compute\n",
    "        Y: series on which we condition\n",
    "    \"\"\"\n",
    "    x_given_y = cond_probability(X, Y)\n",
    "    py = Y.value_counts() / Y.count()\n",
    "    with np.errstate(divide='ignore'):\n",
    "        ent_ys = np.log2(x_given_y) * x_given_y\n",
    "    return -(ent_ys.sum(axis=0) * py).sum()\n",
    "\n",
    "for cname in mushroom_df.columns:\n",
    "    print(f\"{cname.ljust(25)}:\\t {cond_entropy(mushroom_df['target'], mushroom_df[cname]).round(decimals=3)}\")"
   ]
  },
  {
   "cell_type": "code",
   "execution_count": null,
   "metadata": {
    "id": "DVJwv7AvzFsH"
   },
   "outputs": [],
   "source": []
  },
  {
   "cell_type": "code",
   "execution_count": 16,
   "metadata": {
    "colab": {
     "base_uri": "https://localhost:8080/"
    },
    "id": "EsOBlFlC_9Wy",
    "outputId": "70a18579-a368-4c0b-e2a3-94190af41483"
   },
   "outputs": [
    {
     "name": "stdout",
     "output_type": "stream",
     "text": [
      "target                   :\t 0.999\n",
      "cap-shape                :\t 0.049\n",
      "cap-surface              :\t 0.029\n",
      "cap-color                :\t 0.036\n",
      "bruises?                 :\t 0.192\n",
      "odor                     :\t 0.906\n",
      "gill-attachment          :\t 0.014\n",
      "gill-spacing             :\t 0.101\n",
      "gill-size                :\t 0.23\n",
      "gill-color               :\t 0.417\n",
      "stalk-shape              :\t 0.008\n",
      "stalk-root               :\t 0.135\n",
      "stalk-surface-above-ring :\t 0.285\n",
      "stalk-surface-below-ring :\t 0.272\n",
      "stalk-color-above-ring   :\t 0.254\n",
      "stalk-color-below-ring   :\t 0.241\n",
      "veil-type                :\t 0.0\n",
      "veil-color               :\t 0.024\n",
      "ring-number              :\t 0.038\n",
      "ring-type                :\t 0.318\n",
      "spore-print-color        :\t 0.481\n",
      "population               :\t 0.202\n",
      "habitat                  :\t 0.157\n"
     ]
    }
   ],
   "source": [
    "def mutual_information(X, Y):\n",
    "    # TODO implement mutual information using the formula H(X,Y) - H(X|Y) - H(Y|X)\n",
    "    return entropy(X) - cond_entropy(X, Y)\n",
    "    \n",
    "for cname in mushroom_df.columns:\n",
    "    print(f\"{cname.ljust(25)}:\\t {mutual_information(mushroom_df['target'], mushroom_df[cname]).round(decimals=3)}\")"
   ]
  },
  {
   "cell_type": "markdown",
   "metadata": {
    "id": "Pz4n1pPj_9Wz"
   },
   "source": [
    "We can see from the above listing that the features that share the most information with the target are \"odor\" (0.906). Makes sense, also there was the biggest drop in the conditional entropy in the target column when conditioned on the odor."
   ]
  },
  {
   "cell_type": "markdown",
   "metadata": {
    "id": "dc43ace3_9Wz"
   },
   "source": [
    "## Correlation vs mutual information"
   ]
  },
  {
   "cell_type": "markdown",
   "metadata": {
    "id": "WEvnRFuA_9W0"
   },
   "source": [
    "Here's an example for why we care about mutual information in the first place.\n",
    "There are very natural cases when correlation of two random variables is very low (in the example it's actually a perfect 0), even though they may be incredibly dependent. It turns out that zero correlation only tells us whether two random variables do not have any linear relationship between them."
   ]
  },
  {
   "cell_type": "code",
   "execution_count": 17,
   "metadata": {
    "colab": {
     "base_uri": "https://localhost:8080/",
     "height": 387
    },
    "id": "nlrR_VQE_9W0",
    "outputId": "2924e880-add1-42ea-cbc5-156b7df42028"
   },
   "outputs": [
    {
     "data": {
      "text/html": [
       "<div>\n",
       "<style scoped>\n",
       "    .dataframe tbody tr th:only-of-type {\n",
       "        vertical-align: middle;\n",
       "    }\n",
       "\n",
       "    .dataframe tbody tr th {\n",
       "        vertical-align: top;\n",
       "    }\n",
       "\n",
       "    .dataframe thead th {\n",
       "        text-align: right;\n",
       "    }\n",
       "</style>\n",
       "<table border=\"1\" class=\"dataframe\">\n",
       "  <thead>\n",
       "    <tr style=\"text-align: right;\">\n",
       "      <th></th>\n",
       "      <th>x</th>\n",
       "      <th>|x|</th>\n",
       "    </tr>\n",
       "  </thead>\n",
       "  <tbody>\n",
       "    <tr>\n",
       "      <th>-1.0</th>\n",
       "      <td>-1.0</td>\n",
       "      <td>1.0</td>\n",
       "    </tr>\n",
       "    <tr>\n",
       "      <th>0.0</th>\n",
       "      <td>0.0</td>\n",
       "      <td>0.0</td>\n",
       "    </tr>\n",
       "    <tr>\n",
       "      <th>1.0</th>\n",
       "      <td>1.0</td>\n",
       "      <td>1.0</td>\n",
       "    </tr>\n",
       "  </tbody>\n",
       "</table>\n",
       "</div>"
      ],
      "text/plain": [
       "        x  |x|\n",
       "-1.0 -1.0  1.0\n",
       " 0.0  0.0  0.0\n",
       " 1.0  1.0  1.0"
      ]
     },
     "execution_count": 17,
     "metadata": {},
     "output_type": "execute_result"
    },
    {
     "data": {
      "image/png": "[encoded data removed]",
      "text/plain": [
       "<Figure size 640x480 with 1 Axes>"
      ]
     },
     "metadata": {},
     "output_type": "display_data"
    }
   ],
   "source": [
    "df = pd.DataFrame(index=np.linspace(-1,1,3))\n",
    "df['x'] = df.index\n",
    "df['|x|'] = np.abs(df['x'])\n",
    "df.plot()\n",
    "df"
   ]
  },
  {
   "cell_type": "markdown",
   "metadata": {
    "id": "4-Noy03Q_9W1"
   },
   "source": [
    "Correlation (covariance) of random variables X and |X| is 0."
   ]
  },
  {
   "cell_type": "code",
   "execution_count": 18,
   "metadata": {
    "colab": {
     "base_uri": "https://localhost:8080/"
    },
    "id": "LFt9qc5H_9W2",
    "outputId": "6a7261d1-0490-4620-da5e-12e6fcaeff85"
   },
   "outputs": [
    {
     "data": {
      "text/plain": [
       "0.0"
      ]
     },
     "execution_count": 18,
     "metadata": {},
     "output_type": "execute_result"
    }
   ],
   "source": [
    "df['x'].dot(df['|x|'])"
   ]
  },
  {
   "cell_type": "markdown",
   "metadata": {
    "id": "8NUi6GJy_9W2"
   },
   "source": [
    "However, they are very dependent, since knowing $x$ immediately tells us what the value of $|x|$ is. \n",
    "And this actually can be seen by looking at the conditional entropy of $H(|X|\\ | X)$ the variables."
   ]
  },
  {
   "cell_type": "code",
   "execution_count": 19,
   "metadata": {
    "colab": {
     "base_uri": "https://localhost:8080/"
    },
    "id": "b0i9VZ_K_9W3",
    "outputId": "198e0f5f-36ef-4c3c-9ddc-a9961fd1d58e"
   },
   "outputs": [
    {
     "data": {
      "text/plain": [
       "-0.0"
      ]
     },
     "execution_count": 19,
     "metadata": {},
     "output_type": "execute_result"
    }
   ],
   "source": [
    "cond_entropy(df[\"|x|\"], df[\"x\"]).round(decimals=9)"
   ]
  },
  {
   "cell_type": "markdown",
   "metadata": {
    "id": "CIsgC3Q3_9W3"
   },
   "source": [
    "The above result clearly implements our intuition --- once we know $x$, there's no uncertainty left about $|x|$."
   ]
  },
  {
   "cell_type": "markdown",
   "metadata": {
    "id": "ytlL8sO__9W4"
   },
   "source": [
    "What about the reverse conditioning?"
   ]
  },
  {
   "cell_type": "code",
   "execution_count": 20,
   "metadata": {
    "colab": {
     "base_uri": "https://localhost:8080/"
    },
    "id": "-C-ihfAM_9W4",
    "outputId": "4213196c-2d62-47a6-84ce-99a7b7de85d4"
   },
   "outputs": [
    {
     "data": {
      "text/plain": [
       "(1.584962500721156, 1.584962500721156)"
      ]
     },
     "execution_count": 20,
     "metadata": {},
     "output_type": "execute_result"
    }
   ],
   "source": [
    "entropy(df['x']), np.log2(3)"
   ]
  },
  {
   "cell_type": "code",
   "execution_count": 22,
   "metadata": {
    "colab": {
     "base_uri": "https://localhost:8080/"
    },
    "id": "m_u1sEZx_9W4",
    "outputId": "dc960228-466e-4386-f290-c87e53f8c31d"
   },
   "outputs": [
    {
     "data": {
      "text/plain": [
       "(0.9182958340544896, 0.9182958340544893)"
      ]
     },
     "execution_count": 22,
     "metadata": {},
     "output_type": "execute_result"
    }
   ],
   "source": [
    "entropy(df['|x|']),  (1/3)*np.log2(3) + (2/3)*np.log2(3/2)"
   ]
  },
  {
   "cell_type": "code",
   "execution_count": 24,
   "metadata": {
    "colab": {
     "base_uri": "https://localhost:8080/"
    },
    "id": "ca20pdPO_9W5",
    "outputId": "e05747fe-c9ae-4d96-b5f8-3c7f9fd8d147"
   },
   "outputs": [
    {
     "data": {
      "text/plain": [
       "0.6666666666666666"
      ]
     },
     "execution_count": 24,
     "metadata": {},
     "output_type": "execute_result"
    }
   ],
   "source": [
    "cond_entropy(df[\"x\"], df[\"|x|\"]).round(decimals=3)"
   ]
  },
  {
   "cell_type": "markdown",
   "metadata": {
    "id": "UqWEuBoz_9W6"
   },
   "source": [
    "This result has a natural intepretation: 1 cases out of 3 $|x|$ is zero in which case we know what $x$ is, so in this case the entropy is $0$, cause there's no uncertainty left. 2 cases out of 3 we have $|x| = 1$, in which case the uncertainty which remains is the probability distribution of the sign. The probability distribution of the sign is just $P(\\mbox{sign is }+) = 1/2 = P(\\mbox{sign is }-)$ and its entropy is $-\\left(\\frac{1}{2}\\log(1/2) + \\frac{1}{2}\\log(1/2)\\right)=1$. Hence the total conditional entropy is $\\frac{2}{3}$."
   ]
  },
  {
   "cell_type": "markdown",
   "metadata": {
    "id": "apDW9nfZ_9W6"
   },
   "source": [
    "At the end let us look at the actual mutual information based on what we already saw."
   ]
  },
  {
   "cell_type": "code",
   "execution_count": 25,
   "metadata": {
    "colab": {
     "base_uri": "https://localhost:8080/"
    },
    "id": "Y-NwghjN_9W6",
    "outputId": "e4377b44-9be5-43cf-f1d7-b783b39696a1"
   },
   "outputs": [
    {
     "data": {
      "text/plain": [
       "0.9182958340544894"
      ]
     },
     "execution_count": 25,
     "metadata": {},
     "output_type": "execute_result"
    }
   ],
   "source": [
    "mutual_information(df['x'], df['|x|'])"
   ]
  },
  {
   "cell_type": "markdown",
   "metadata": {
    "id": "yCX3lvIj_9W7"
   },
   "source": [
    "Makes sense, right?"
   ]
  },
  {
   "cell_type": "markdown",
   "metadata": {
    "id": "yQfI6oJHczUa"
   },
   "source": [
    "# Problem 2: Decision Tree Implementation [9p]\n",
    "\n",
    "Currently, there are no good implementations of Decision Trees in Python.\n",
    "\n",
    "Sadly, the machine learning toolkit [sklearn](https://scikit-learn.org/stable/index.html) doesn't handle categorical attributes. Let's use this as an excuse to implement Decision Tress ourselves.\n",
    "\n"
   ]
  },
  {
   "cell_type": "markdown",
   "metadata": {
    "id": "sYD_oPNBuuWk"
   },
   "source": [
    "## Decision Tree Task \n",
    "\n",
    "In the following code change the criterion from Gini to entropy"
   ]
  },
  {
   "cell_type": "code",
   "execution_count": null,
   "metadata": {},
   "outputs": [],
   "source": []
  },
  {
   "cell_type": "code",
   "execution_count": 26,
   "metadata": {},
   "outputs": [],
   "source": [
    "import numpy as np\n",
    "import pandas as pd\n",
    "from sklearn import datasets\n",
    "\n",
    "# Load the Iris dataset\n",
    "iris = datasets.load_iris()\n",
    "\n",
    "# Create a dataframe from the iris data\n",
    "df = pd.DataFrame(iris.data, columns=iris.feature_names)\n",
    "df['target'] = iris.target\n",
    "\n",
    "# Split the data into features and target\n",
    "X = df.drop('target', axis=1)\n",
    "y = df['target']\n",
    "\n",
    "# Define a function to calculate the Gini index\n",
    "def gini_index(groups, classes):\n",
    "    n_instances = float(sum([len(group) for group in groups]))\n",
    "    gini = 0.0\n",
    "    for group in groups:\n",
    "        size = float(len(group))\n",
    "        if size == 0:\n",
    "            continue\n",
    "        score = 0.0\n",
    "        for class_val in classes:\n",
    "            p = [row[-1] for row in group].count(class_val) / size\n",
    "            score += p * p\n",
    "        gini += (1.0 - score) * (size / n_instances)\n",
    "    return gini\n",
    "\n",
    "# Define a function to split the data into two groups\n",
    "def test_split(index, value, dataset):\n",
    "    left, right = list(), list()\n",
    "    for row in dataset:\n",
    "        if row[index] < value:\n",
    "            left.append(row)\n",
    "        else:\n",
    "            right.append(row)\n",
    "    return left, right\n",
    "\n",
    "# Define a function to find the best split for a dataset\n",
    "def get_split(dataset):\n",
    "    class_values = list(set(row[-1] for row in dataset))\n",
    "    b_index, b_value, b_score, b_groups = 999, 999, 999, None\n",
    "    for index in range(len(dataset[0])-1):\n",
    "        for row in dataset:\n",
    "            groups = test_split(index, row[index], dataset)\n",
    "            gini = gini_index(groups, class_values)\n",
    "            if gini < b_score:\n",
    "                b_index, b_value, b_score, b_groups = index, row[index], gini, groups\n",
    "    return {'index':b_index, 'value':b_value, 'groups':b_groups}\n",
    "\n",
    "# Define a function to create a terminal node\n",
    "def to_terminal(group):\n",
    "    outcomes = [row[-1] for row in group]\n",
    "    return max(set(outcomes), key=outcomes.count)\n",
    "\n",
    "# Define a function to create child splits for a node or make terminal\n",
    "def split(node, max_depth, min_size, depth):\n",
    "    left, right = node['groups']\n",
    "    del(node['groups'])\n",
    "    # check for a no split\n",
    "    if not left or not right:\n",
    "        node['left'] = node['right'] = to_terminal(left + right)\n",
    "        return\n",
    "    # check for max depth\n",
    "    if depth >= max_depth:\n",
    "        node['left'], node['right'] = to_terminal(left), to_terminal(right)\n",
    "        return\n",
    "    # process left child\n",
    "    if len(left) <= min_size:\n",
    "        node['left'] = to_terminal(left)\n",
    "    else:\n",
    "        node['left'] = get_split(left)\n",
    "        split(node['left'], max_depth, min_size, depth+1)\n",
    "        # process right child\n",
    "    if len(right) <= min_size:\n",
    "        node['right'] = to_terminal(right)\n",
    "    else:\n",
    "        node['right'] = get_split(right)\n",
    "        split(node['right'], max_depth, min_size, depth+1)\n",
    "\n",
    "# Define a function to build a decision tree\n",
    "def build_tree(train, max_depth, min_size):\n",
    "    root = get_split(train)\n",
    "    split(root, max_depth, min_size, 1)\n",
    "    return root\n",
    "\n",
    "# Define a function to make predictions with a decision tree\n",
    "def predict(node, row):\n",
    "    if row[node['index']] < node['value']:\n",
    "        if isinstance(node['left'], dict):\n",
    "            return predict(node['left'], row)\n",
    "        else:\n",
    "            return node['left']\n",
    "    else:\n",
    "        if isinstance(node['right'], dict):\n",
    "            return predict(node['right'], row)\n",
    "        else:\n",
    "            return node['right']\n",
    "\n",
    "# Train the decision tree on the Iris dataset\n",
    "dataset = df.values.tolist()\n",
    "tree = build_tree(dataset, max_depth=3, min_size=1)\n",
    "\n",
    "# Make predictions on the Iris dataset using the trained decision tree\n",
    "predictions = [predict(tree, row) for row in dataset]\n"
   ]
  },
  {
   "cell_type": "code",
   "execution_count": 27,
   "metadata": {},
   "outputs": [
    {
     "data": {
      "text/plain": [
       "[0.0,\n",
       " 0.0,\n",
       " 0.0,\n",
       " 0.0,\n",
       " 0.0,\n",
       " 0.0,\n",
       " 0.0,\n",
       " 0.0,\n",
       " 0.0,\n",
       " 0.0,\n",
       " 0.0,\n",
       " 0.0,\n",
       " 0.0,\n",
       " 0.0,\n",
       " 0.0,\n",
       " 0.0,\n",
       " 0.0,\n",
       " 0.0,\n",
       " 0.0,\n",
       " 0.0,\n",
       " 0.0,\n",
       " 0.0,\n",
       " 0.0,\n",
       " 0.0,\n",
       " 0.0,\n",
       " 0.0,\n",
       " 0.0,\n",
       " 0.0,\n",
       " 0.0,\n",
       " 0.0,\n",
       " 0.0,\n",
       " 0.0,\n",
       " 0.0,\n",
       " 0.0,\n",
       " 0.0,\n",
       " 0.0,\n",
       " 0.0,\n",
       " 0.0,\n",
       " 0.0,\n",
       " 0.0,\n",
       " 0.0,\n",
       " 0.0,\n",
       " 0.0,\n",
       " 0.0,\n",
       " 0.0,\n",
       " 0.0,\n",
       " 0.0,\n",
       " 0.0,\n",
       " 0.0,\n",
       " 0.0,\n",
       " 1.0,\n",
       " 1.0,\n",
       " 1.0,\n",
       " 1.0,\n",
       " 1.0,\n",
       " 1.0,\n",
       " 1.0,\n",
       " 1.0,\n",
       " 1.0,\n",
       " 1.0,\n",
       " 1.0,\n",
       " 1.0,\n",
       " 1.0,\n",
       " 1.0,\n",
       " 1.0,\n",
       " 1.0,\n",
       " 1.0,\n",
       " 1.0,\n",
       " 1.0,\n",
       " 1.0,\n",
       " 2.0,\n",
       " 1.0,\n",
       " 1.0,\n",
       " 1.0,\n",
       " 1.0,\n",
       " 1.0,\n",
       " 1.0,\n",
       " 2.0,\n",
       " 1.0,\n",
       " 1.0,\n",
       " 1.0,\n",
       " 1.0,\n",
       " 1.0,\n",
       " 2.0,\n",
       " 1.0,\n",
       " 1.0,\n",
       " 1.0,\n",
       " 1.0,\n",
       " 1.0,\n",
       " 1.0,\n",
       " 1.0,\n",
       " 1.0,\n",
       " 1.0,\n",
       " 1.0,\n",
       " 1.0,\n",
       " 1.0,\n",
       " 1.0,\n",
       " 1.0,\n",
       " 1.0,\n",
       " 1.0,\n",
       " 2.0,\n",
       " 2.0,\n",
       " 2.0,\n",
       " 2.0,\n",
       " 2.0,\n",
       " 2.0,\n",
       " 1.0,\n",
       " 2.0,\n",
       " 2.0,\n",
       " 2.0,\n",
       " 2.0,\n",
       " 2.0,\n",
       " 2.0,\n",
       " 2.0,\n",
       " 2.0,\n",
       " 2.0,\n",
       " 2.0,\n",
       " 2.0,\n",
       " 2.0,\n",
       " 2.0,\n",
       " 2.0,\n",
       " 2.0,\n",
       " 2.0,\n",
       " 2.0,\n",
       " 2.0,\n",
       " 2.0,\n",
       " 2.0,\n",
       " 2.0,\n",
       " 2.0,\n",
       " 2.0,\n",
       " 2.0,\n",
       " 2.0,\n",
       " 2.0,\n",
       " 2.0,\n",
       " 2.0,\n",
       " 2.0,\n",
       " 2.0,\n",
       " 2.0,\n",
       " 2.0,\n",
       " 2.0,\n",
       " 2.0,\n",
       " 2.0,\n",
       " 2.0,\n",
       " 2.0,\n",
       " 2.0,\n",
       " 2.0,\n",
       " 2.0,\n",
       " 2.0,\n",
       " 2.0,\n",
       " 2.0]"
      ]
     },
     "execution_count": 27,
     "metadata": {},
     "output_type": "execute_result"
    }
   ],
   "source": [
    "predictions"
   ]
  },
  {
   "cell_type": "code",
   "execution_count": 29,
   "metadata": {},
   "outputs": [
    {
     "data": {
      "text/plain": [
       "0.9733333333333334"
      ]
     },
     "execution_count": 29,
     "metadata": {},
     "output_type": "execute_result"
    }
   ],
   "source": [
    "(predictions == y).mean()"
   ]
  },
  {
   "cell_type": "code",
   "execution_count": null,
   "metadata": {},
   "outputs": [],
   "source": [
    "\n",
    "\n",
    "\n",
    "\n"
   ]
  },
  {
   "cell_type": "code",
   "execution_count": null,
   "metadata": {},
   "outputs": [],
   "source": []
  },
  {
   "cell_type": "code",
   "execution_count": null,
   "metadata": {},
   "outputs": [],
   "source": []
  },
  {
   "cell_type": "code",
   "execution_count": null,
   "metadata": {},
   "outputs": [],
   "source": []
  },
  {
   "cell_type": "code",
   "execution_count": null,
   "metadata": {},
   "outputs": [],
   "source": []
  },
  {
   "cell_type": "code",
   "execution_count": null,
   "metadata": {},
   "outputs": [],
   "source": []
  }
 ],
 "metadata": {
  "colab": {
   "provenance": []
  },
  "kernelspec": {
   "display_name": "ml_uwr-venv",
   "language": "python",
   "name": "ml_uwr-venv"
  },
  "language_info": {
   "codemirror_mode": {
    "name": "ipython",
    "version": 3
   },
   "file_extension": ".py",
   "mimetype": "text/x-python",
   "name": "python",
   "nbconvert_exporter": "python",
   "pygments_lexer": "ipython3",
   "version": "3.9.13"
  }
 },
 "nbformat": 4,
 "nbformat_minor": 1
}
