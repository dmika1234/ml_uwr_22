{
 "cells": [
  {
   "cell_type": "code",
   "execution_count": 1,
   "metadata": {
    "collapsed": true
   },
   "outputs": [],
   "source": [
    "import pandas as pd\n",
    "import numpy as np\n",
    "import nltk\n",
    "from nltk.corpus import stopwords\n",
    "from nltk.tokenize import RegexpTokenizer\n",
    "from nltk.stem import WordNetLemmatizer\n",
    "from gensim.models import Word2Vec\n",
    "from sklearn.linear_model import LogisticRegression\n",
    "from sklearn.model_selection import train_test_split"
   ]
  },
  {
   "cell_type": "code",
   "execution_count": 3,
   "outputs": [],
   "source": [
    "# Locally\n",
    "# data_url = 'https://github.com/dmika1234/ml_uwr_22/blob/Project/Project/data/fake_job_postings.csv'\n",
    "data_path = 'data/fake_job_postings.csv'\n",
    "raw_data = pd.read_csv(data_path)\n",
    "\n",
    "# For colab\n",
    "# data_url = '/content/fake_job_postings.csv'\n",
    "# raw_data = pd.read_csv(data_url, error_bad_lines=False, engine=\"python\")\n",
    "#straszny problem miałem, żeby wczytać te dane tak ja ty to robiłeś. dziwne błędy mi wyskakiwały"
   ],
   "metadata": {
    "collapsed": false
   }
  },
  {
   "cell_type": "code",
   "execution_count": 4,
   "outputs": [
    {
     "name": "stderr",
     "output_type": "stream",
     "text": [
      "C:\\Users\\dmika\\AppData\\Local\\Temp\\ipykernel_8976\\4157831128.py:3: SettingWithCopyWarning: \n",
      "A value is trying to be set on a copy of a slice from a DataFrame\n",
      "\n",
      "See the caveats in the documentation: https://pandas.pydata.org/pandas-docs/stable/user_guide/indexing.html#returning-a-view-versus-a-copy\n",
      "  text_data.fillna('', inplace=True)\n",
      "[nltk_data] Downloading package stopwords to\n",
      "[nltk_data]     C:\\Users\\dmika\\AppData\\Roaming\\nltk_data...\n",
      "[nltk_data]   Package stopwords is already up-to-date!\n",
      "[nltk_data] Downloading package wordnet to\n",
      "[nltk_data]     C:\\Users\\dmika\\AppData\\Roaming\\nltk_data...\n",
      "[nltk_data]   Package wordnet is already up-to-date!\n",
      "[nltk_data] Downloading package omw-1.4 to\n",
      "[nltk_data]     C:\\Users\\dmika\\AppData\\Roaming\\nltk_data...\n",
      "[nltk_data]   Package omw-1.4 is already up-to-date!\n"
     ]
    }
   ],
   "source": [
    "text_colnames = ['company_profile', 'description', 'requirements', 'benefits']\n",
    "text_data = raw_data[['job_id'] + text_colnames]\n",
    "text_data.fillna('', inplace=True)\n",
    "\n",
    "tokenizer = RegexpTokenizer(r'\\w+')\n",
    "nltk.download('stopwords')\n",
    "nltk.download('wordnet')\n",
    "nltk.download('omw-1.4')\n",
    "stop_words = set(stopwords.words('english'))\n",
    "lemmatizer = WordNetLemmatizer()\n",
    "\n",
    "for i in range(text_data.shape[0]):\n",
    "    for col in text_colnames:\n",
    "        text_data.at[i, col] = tokenizer.tokenize(text_data.at[i, col].lower())  # removing punctuation\n",
    "        filtered_sentence = []\n",
    "        for w in text_data.at[i, col]:\n",
    "            if w not in stop_words:  # removing words such as “the”, “a”, “an”, “in”\n",
    "                filtered_sentence.append(\n",
    "                    lemmatizer.lemmatize(w))  # grouping together the different inflected forms of a word\n",
    "        text_data.at[i, col] = list(filtered_sentence)"
   ],
   "metadata": {
    "collapsed": false
   }
  },
  {
   "cell_type": "markdown",
   "source": [
    "# Word2vec playground"
   ],
   "metadata": {
    "collapsed": false
   }
  },
  {
   "cell_type": "markdown",
   "source": [
    "### Simple example"
   ],
   "metadata": {
    "collapsed": false
   }
  },
  {
   "cell_type": "code",
   "execution_count": 31,
   "outputs": [
    {
     "data": {
      "text/plain": "array([-5.3622725e-04,  2.3643136e-04,  5.1033497e-03,  9.0092728e-03,\n       -9.3029495e-03, -7.1168090e-03,  6.4588725e-03,  8.9729885e-03,\n       -5.0154282e-03, -3.7633716e-03,  7.3805046e-03, -1.5334714e-03,\n       -4.5366134e-03,  6.5540518e-03, -4.8601604e-03, -1.8160177e-03,\n        2.8765798e-03,  9.9187379e-04, -8.2852151e-03, -9.4488179e-03,\n        7.3117660e-03,  5.0702621e-03,  6.7576934e-03,  7.6286553e-04,\n        6.3508903e-03, -3.4053659e-03, -9.4640139e-04,  5.7685734e-03,\n       -7.5216377e-03, -3.9361035e-03, -7.5115822e-03, -9.3004224e-04,\n        9.5381187e-03, -7.3191668e-03, -2.3337686e-03, -1.9377411e-03,\n        8.0774371e-03, -5.9308959e-03,  4.5162440e-05, -4.7537340e-03,\n       -9.6035507e-03,  5.0072931e-03, -8.7595852e-03, -4.3918253e-03,\n       -3.5099984e-05, -2.9618145e-04, -7.6612402e-03,  9.6147433e-03,\n        4.9820580e-03,  9.2331432e-03, -8.1579173e-03,  4.4957981e-03,\n       -4.1370760e-03,  8.2453608e-04,  8.4986202e-03, -4.4621765e-03,\n        4.5175003e-03, -6.7869602e-03, -3.5484887e-03,  9.3985079e-03,\n       -1.5776526e-03,  3.2137157e-04, -4.1406299e-03, -7.6826881e-03,\n       -1.5080082e-03,  2.4697948e-03, -8.8802696e-04,  5.5336617e-03,\n       -2.7429771e-03,  2.2600652e-03,  5.4557943e-03,  8.3459532e-03,\n       -1.4537406e-03, -9.2081428e-03,  4.3705525e-03,  5.7178497e-04,\n        7.4419081e-03, -8.1328274e-04, -2.6384138e-03, -8.7530091e-03,\n       -8.5655687e-04,  2.8265631e-03,  5.4014288e-03,  7.0526563e-03,\n       -5.7031214e-03,  1.8588197e-03,  6.0888636e-03, -4.7980510e-03,\n       -3.1072604e-03,  6.7976294e-03,  1.6314756e-03,  1.8991709e-04,\n        3.4736372e-03,  2.1777749e-04,  9.6188262e-03,  5.0606038e-03,\n       -8.9173904e-03, -7.0415605e-03,  9.0145587e-04,  6.3925339e-03],\n      dtype=float32)"
     },
     "execution_count": 31,
     "metadata": {},
     "output_type": "execute_result"
    }
   ],
   "source": [
    "sentences = [['this', 'is', 'a', 'good', 'example'], ['this', 'is', 'another', 'example']]\n",
    "model = Word2Vec(sentences, min_count=1)\n",
    "model.wv['example']"
   ],
   "metadata": {
    "collapsed": false
   }
  },
  {
   "cell_type": "code",
   "execution_count": 32,
   "outputs": [
    {
     "data": {
      "text/plain": "['example', 'is', 'this', 'another', 'good', 'a']"
     },
     "execution_count": 32,
     "metadata": {},
     "output_type": "execute_result"
    }
   ],
   "source": [
    "model.wv.index_to_key"
   ],
   "metadata": {
    "collapsed": false
   }
  },
  {
   "cell_type": "markdown",
   "source": [
    "### Our data 1st try"
   ],
   "metadata": {
    "collapsed": false
   }
  },
  {
   "cell_type": "code",
   "execution_count": 12,
   "outputs": [
    {
     "ename": "ValueError",
     "evalue": "need at least one array to concatenate",
     "output_type": "error",
     "traceback": [
      "\u001B[1;31m---------------------------------------------------------------------------\u001B[0m",
      "\u001B[1;31mValueError\u001B[0m                                Traceback (most recent call last)",
      "Cell \u001B[1;32mIn [12], line 5\u001B[0m\n\u001B[0;32m      2\u001B[0m model2 \u001B[38;5;241m=\u001B[39m Word2Vec(text_data[\u001B[38;5;124m'\u001B[39m\u001B[38;5;124mdescription\u001B[39m\u001B[38;5;124m'\u001B[39m], vector_size\u001B[38;5;241m=\u001B[39m\u001B[38;5;241m20\u001B[39m, min_count\u001B[38;5;241m=\u001B[39m\u001B[38;5;241m1\u001B[39m)\n\u001B[0;32m      4\u001B[0m \u001B[38;5;66;03m# Create fixed-length vectors for each job description\u001B[39;00m\n\u001B[1;32m----> 5\u001B[0m vectors \u001B[38;5;241m=\u001B[39m [model2\u001B[38;5;241m.\u001B[39mwv[description] \u001B[38;5;28;01mfor\u001B[39;00m description \u001B[38;5;129;01min\u001B[39;00m text_data[\u001B[38;5;124m'\u001B[39m\u001B[38;5;124mdescription\u001B[39m\u001B[38;5;124m'\u001B[39m]]\n",
      "Cell \u001B[1;32mIn [12], line 5\u001B[0m, in \u001B[0;36m<listcomp>\u001B[1;34m(.0)\u001B[0m\n\u001B[0;32m      2\u001B[0m model2 \u001B[38;5;241m=\u001B[39m Word2Vec(text_data[\u001B[38;5;124m'\u001B[39m\u001B[38;5;124mdescription\u001B[39m\u001B[38;5;124m'\u001B[39m], vector_size\u001B[38;5;241m=\u001B[39m\u001B[38;5;241m20\u001B[39m, min_count\u001B[38;5;241m=\u001B[39m\u001B[38;5;241m1\u001B[39m)\n\u001B[0;32m      4\u001B[0m \u001B[38;5;66;03m# Create fixed-length vectors for each job description\u001B[39;00m\n\u001B[1;32m----> 5\u001B[0m vectors \u001B[38;5;241m=\u001B[39m [\u001B[43mmodel2\u001B[49m\u001B[38;5;241;43m.\u001B[39;49m\u001B[43mwv\u001B[49m\u001B[43m[\u001B[49m\u001B[43mdescription\u001B[49m\u001B[43m]\u001B[49m \u001B[38;5;28;01mfor\u001B[39;00m description \u001B[38;5;129;01min\u001B[39;00m text_data[\u001B[38;5;124m'\u001B[39m\u001B[38;5;124mdescription\u001B[39m\u001B[38;5;124m'\u001B[39m]]\n",
      "File \u001B[1;32m~\\Anaconda3\\envs\\UniversityEnv\\lib\\site-packages\\gensim\\models\\keyedvectors.py:405\u001B[0m, in \u001B[0;36mKeyedVectors.__getitem__\u001B[1;34m(self, key_or_keys)\u001B[0m\n\u001B[0;32m    402\u001B[0m \u001B[38;5;28;01mif\u001B[39;00m \u001B[38;5;28misinstance\u001B[39m(key_or_keys, _KEY_TYPES):\n\u001B[0;32m    403\u001B[0m     \u001B[38;5;28;01mreturn\u001B[39;00m \u001B[38;5;28mself\u001B[39m\u001B[38;5;241m.\u001B[39mget_vector(key_or_keys)\n\u001B[1;32m--> 405\u001B[0m \u001B[38;5;28;01mreturn\u001B[39;00m \u001B[43mvstack\u001B[49m\u001B[43m(\u001B[49m\u001B[43m[\u001B[49m\u001B[38;5;28;43mself\u001B[39;49m\u001B[38;5;241;43m.\u001B[39;49m\u001B[43mget_vector\u001B[49m\u001B[43m(\u001B[49m\u001B[43mkey\u001B[49m\u001B[43m)\u001B[49m\u001B[43m \u001B[49m\u001B[38;5;28;43;01mfor\u001B[39;49;00m\u001B[43m \u001B[49m\u001B[43mkey\u001B[49m\u001B[43m \u001B[49m\u001B[38;5;129;43;01min\u001B[39;49;00m\u001B[43m \u001B[49m\u001B[43mkey_or_keys\u001B[49m\u001B[43m]\u001B[49m\u001B[43m)\u001B[49m\n",
      "File \u001B[1;32m<__array_function__ internals>:180\u001B[0m, in \u001B[0;36mvstack\u001B[1;34m(*args, **kwargs)\u001B[0m\n",
      "File \u001B[1;32m~\\Anaconda3\\envs\\UniversityEnv\\lib\\site-packages\\numpy\\core\\shape_base.py:282\u001B[0m, in \u001B[0;36mvstack\u001B[1;34m(tup)\u001B[0m\n\u001B[0;32m    280\u001B[0m \u001B[38;5;28;01mif\u001B[39;00m \u001B[38;5;129;01mnot\u001B[39;00m \u001B[38;5;28misinstance\u001B[39m(arrs, \u001B[38;5;28mlist\u001B[39m):\n\u001B[0;32m    281\u001B[0m     arrs \u001B[38;5;241m=\u001B[39m [arrs]\n\u001B[1;32m--> 282\u001B[0m \u001B[38;5;28;01mreturn\u001B[39;00m \u001B[43m_nx\u001B[49m\u001B[38;5;241;43m.\u001B[39;49m\u001B[43mconcatenate\u001B[49m\u001B[43m(\u001B[49m\u001B[43marrs\u001B[49m\u001B[43m,\u001B[49m\u001B[43m \u001B[49m\u001B[38;5;241;43m0\u001B[39;49m\u001B[43m)\u001B[49m\n",
      "File \u001B[1;32m<__array_function__ internals>:180\u001B[0m, in \u001B[0;36mconcatenate\u001B[1;34m(*args, **kwargs)\u001B[0m\n",
      "\u001B[1;31mValueError\u001B[0m: need at least one array to concatenate"
     ]
    }
   ],
   "source": [
    "# Train Word2Vec model on job description column\n",
    "model2 = Word2Vec(text_data['description'], vector_size=20, min_count=1)"
   ],
   "metadata": {
    "collapsed": false
   }
  },
  {
   "cell_type": "code",
   "execution_count": 13,
   "outputs": [
    {
     "data": {
      "text/plain": "array([-6.825443  ,  3.7083013 ,  4.4011292 ,  9.217835  ,  0.8840265 ,\n        3.5300004 , -0.9777564 ,  3.3203785 , -0.15862823, -0.8004102 ,\n       -1.1629566 ,  3.3845246 ,  2.9411807 , -3.500717  , -0.44814137,\n       -1.4070075 ,  5.3038187 , -2.2519035 ,  0.0648962 ,  1.355451  ],\n      dtype=float32)"
     },
     "execution_count": 13,
     "metadata": {},
     "output_type": "execute_result"
    }
   ],
   "source": [
    "model2.wv['growing']"
   ],
   "metadata": {
    "collapsed": false
   }
  },
  {
   "cell_type": "code",
   "execution_count": 14,
   "outputs": [
    {
     "data": {
      "text/plain": "[('expanding', 0.8730002641677856),\n ('upsurge', 0.753235936164856),\n ('teamrepresent', 0.7406718730926514),\n ('unbeatable', 0.734790563583374),\n ('transpoco', 0.7288982272148132),\n ('spacedelivering', 0.7272077798843384),\n ('engineerwork', 0.7136224508285522),\n ('brandsensure', 0.7047767043113708),\n ('500equinix', 0.6980654001235962),\n ('paced', 0.6943872570991516)]"
     },
     "execution_count": 14,
     "metadata": {},
     "output_type": "execute_result"
    }
   ],
   "source": [
    "model2.wv.most_similar(positive='growing')"
   ],
   "metadata": {
    "collapsed": false
   }
  },
  {
   "cell_type": "markdown",
   "source": [
    "### Pretrained model on Google news data"
   ],
   "metadata": {
    "collapsed": false
   }
  },
  {
   "cell_type": "markdown",
   "source": [
    "https://drive.google.com/file/d/0B7XkCwpI5KDYNlNUTTlSS21pQmM/edit?resourcekey=0-wjGZdNAUop6WykTtMip30g"
   ],
   "metadata": {
    "collapsed": false
   }
  },
  {
   "cell_type": "code",
   "execution_count": null,
   "outputs": [],
   "source": [
    "!pip install gdown\n",
    "gdown https://drive.google.com/uc?id=0B7XkCwpI5KDYNlNUTTlSS21pQmM"
   ],
   "metadata": {
    "collapsed": false
   }
  },
  {
   "cell_type": "code",
   "execution_count": 17,
   "outputs": [],
   "source": [
    "from gensim.models import KeyedVectors\n",
    "\n",
    "model_google = KeyedVectors.load_word2vec_format('GoogleNews-vectors-negative300.bin.gz', binary=True)"
   ],
   "metadata": {
    "collapsed": false
   }
  },
  {
   "cell_type": "code",
   "execution_count": 20,
   "outputs": [
    {
     "data": {
      "text/plain": "[('grown', 0.6805573105812073),\n ('burgeoning', 0.677505373954773),\n ('grow', 0.6641595959663391),\n ('rapidly_expanding', 0.66228848695755),\n ('increasing', 0.6527025699615479),\n ('grows', 0.6311836838722229),\n ('Growing', 0.6133630871772766),\n ('expanding', 0.5987905263900757),\n ('rising', 0.5733980536460876),\n ('growning', 0.5670080780982971)]"
     },
     "execution_count": 20,
     "metadata": {},
     "output_type": "execute_result"
    }
   ],
   "source": [
    "model_google.most_similar(positive='growing')"
   ],
   "metadata": {
    "collapsed": false
   }
  },
  {
   "cell_type": "code",
   "execution_count": 23,
   "outputs": [
    {
     "data": {
      "text/plain": "array([ 1.44531250e-01, -1.23901367e-02,  1.19140625e-01,  4.15039062e-02,\n       -2.00195312e-01, -1.73828125e-01, -4.73632812e-02,  1.78222656e-02,\n       -1.22070312e-01,  1.36718750e-02, -6.10947609e-06,  6.73828125e-02,\n        2.51464844e-02, -7.03125000e-02, -5.76171875e-02,  4.12597656e-02,\n        1.54296875e-01,  6.78710938e-02, -5.09643555e-03, -1.61132812e-01,\n        2.58789062e-02, -5.79833984e-03,  1.41601562e-01,  4.88281250e-02,\n        1.66015625e-01, -9.96093750e-02, -2.17285156e-02,  8.93554688e-02,\n        1.81640625e-01,  4.91333008e-03, -1.53198242e-02,  9.66796875e-02,\n        1.85546875e-01, -9.37500000e-02, -1.28173828e-02,  3.27148438e-02,\n        1.08032227e-02, -1.64062500e-01,  4.00390625e-02,  9.13085938e-02,\n        2.42187500e-01, -8.59375000e-02,  2.73437500e-01,  6.64062500e-02,\n       -1.64794922e-02,  7.86132812e-02, -2.12890625e-01,  2.88085938e-02,\n        1.17675781e-01,  2.35351562e-01,  3.12500000e-01,  5.88378906e-02,\n       -1.57226562e-01, -9.42382812e-02, -6.59179688e-02,  3.35937500e-01,\n       -6.68945312e-02, -5.63964844e-02,  1.04003906e-01, -5.24902344e-02,\n       -1.76757812e-01,  1.57470703e-02, -3.82812500e-01, -3.10546875e-01,\n        1.59179688e-01, -1.01318359e-02,  1.70898438e-02,  7.47070312e-02,\n       -3.49426270e-03,  2.24609375e-02, -2.06054688e-01,  1.04370117e-02,\n        1.18408203e-02, -1.77734375e-01, -4.02343750e-01, -1.03027344e-01,\n       -5.32226562e-02,  1.25976562e-01,  1.62109375e-01,  1.94335938e-01,\n        6.34765625e-03,  1.24511719e-01,  1.21582031e-01, -4.22363281e-02,\n        2.77343750e-01,  2.06298828e-02, -2.83203125e-01,  1.10351562e-01,\n        1.98242188e-01, -1.62109375e-01, -1.25000000e-01,  2.73437500e-01,\n       -7.42187500e-02, -1.37695312e-01,  2.99072266e-02, -2.06298828e-02,\n        5.37109375e-02, -1.50390625e-01,  1.52343750e-01, -1.19140625e-01,\n       -1.25000000e-01,  1.53320312e-01,  6.05468750e-02,  2.20703125e-01,\n        1.10839844e-01,  3.12805176e-03, -4.12597656e-02, -2.45117188e-01,\n       -2.77099609e-02,  1.42578125e-01,  7.22656250e-02, -1.64062500e-01,\n       -1.19628906e-01, -2.11914062e-01,  1.66015625e-01,  1.31835938e-01,\n        2.20703125e-01, -1.00708008e-02, -1.04980469e-01, -7.22656250e-02,\n       -1.93359375e-01, -1.87500000e-01,  1.04980469e-01,  6.98242188e-02,\n       -1.33789062e-01,  1.76757812e-01, -2.97546387e-03, -8.78906250e-03,\n        6.59179688e-02,  2.60009766e-02,  5.90820312e-02,  9.15527344e-03,\n        2.51953125e-01, -3.73535156e-02, -1.13525391e-02,  2.14843750e-01,\n        4.29687500e-01,  1.77734375e-01,  1.00097656e-01,  1.64062500e-01,\n        7.86132812e-02, -1.10839844e-01,  4.61425781e-02, -7.32421875e-02,\n       -5.32226562e-02, -6.54296875e-02,  8.10546875e-02,  1.25000000e-01,\n        1.31835938e-01,  6.64062500e-02,  2.07519531e-02,  2.53906250e-01,\n        2.29492188e-02,  1.05957031e-01, -2.03125000e-01,  1.26342773e-02,\n        5.41992188e-02,  1.52343750e-01, -2.29492188e-01, -2.91015625e-01,\n       -2.72216797e-02,  1.09375000e-01, -9.76562500e-02, -3.24707031e-02,\n       -3.14941406e-02, -1.14746094e-02, -6.78710938e-02, -1.92382812e-01,\n        1.51367188e-01, -2.87109375e-01, -1.96289062e-01, -1.02050781e-01,\n       -1.84570312e-01,  1.77001953e-02, -3.36914062e-02,  9.61914062e-02,\n       -1.42822266e-02, -8.34960938e-02,  9.82666016e-03, -1.11083984e-02,\n        1.44531250e-01, -3.18359375e-01,  2.44140625e-02, -1.94335938e-01,\n       -9.21630859e-03,  4.22363281e-02,  1.14746094e-01,  1.01562500e-01,\n       -9.37500000e-02,  1.80664062e-02,  2.22656250e-01,  7.37304688e-02,\n       -5.54199219e-02,  3.51562500e-02, -1.25122070e-02,  8.54492188e-02,\n        4.79125977e-03, -2.01171875e-01,  4.24804688e-02, -1.80664062e-01,\n        3.02734375e-01, -2.75878906e-02,  1.09863281e-01,  1.35742188e-01,\n       -8.25195312e-02, -1.12304688e-01, -8.98437500e-02, -1.59179688e-01,\n        2.62451172e-03,  9.32617188e-02, -1.72851562e-01,  1.06933594e-01,\n        6.12792969e-02, -1.73828125e-01,  2.23388672e-02, -8.00781250e-02,\n        7.62939453e-03, -4.02832031e-02, -2.00195312e-01,  1.53320312e-01,\n        1.21093750e-01,  4.39453125e-02, -1.80664062e-01, -8.20312500e-02,\n       -7.61718750e-02,  2.40478516e-02,  6.74438477e-03, -3.96484375e-01,\n        1.70898438e-01, -3.18908691e-03,  1.91406250e-01, -4.29687500e-02,\n        3.45703125e-01, -9.91210938e-02, -2.28271484e-02, -1.15234375e-01,\n       -1.56250000e-01, -1.15234375e-01, -1.20117188e-01,  1.87500000e-01,\n        7.08007812e-02, -8.00781250e-02, -2.96875000e-01, -2.13867188e-01,\n        3.16406250e-01, -6.73828125e-02, -9.27734375e-02,  6.54296875e-02,\n        3.28125000e-01, -1.03027344e-01,  2.36328125e-01, -6.73828125e-02,\n        1.28906250e-01,  1.48437500e-01, -3.63769531e-02, -1.68945312e-01,\n        5.07812500e-02, -1.89208984e-02, -1.44531250e-01, -2.50000000e-01,\n        1.66992188e-01, -8.69140625e-02, -9.71679688e-02, -1.65039062e-01,\n        6.68945312e-02,  7.42187500e-02, -2.79296875e-01, -2.37304688e-01,\n       -6.68945312e-02,  1.94335938e-01, -1.13769531e-01,  1.90429688e-01,\n        7.12890625e-02,  2.10937500e-01, -9.27734375e-03, -5.83496094e-02,\n       -6.49414062e-02, -3.57421875e-01,  2.71484375e-01, -9.52148438e-02,\n        9.08203125e-02,  1.29882812e-01, -2.46093750e-01,  2.98828125e-01,\n       -2.15820312e-01,  5.00488281e-02, -1.14746094e-01,  1.13281250e-01,\n        1.62109375e-01,  1.71875000e-01,  1.77734375e-01, -1.20239258e-02,\n       -1.23046875e-01,  8.69140625e-02,  7.12890625e-02,  4.95605469e-02,\n       -3.29589844e-02,  1.92382812e-01,  3.71093750e-02, -1.10351562e-01],\n      dtype=float32)"
     },
     "execution_count": 23,
     "metadata": {},
     "output_type": "execute_result"
    }
   ],
   "source": [],
   "metadata": {
    "collapsed": false
   }
  },
  {
   "cell_type": "code",
   "execution_count": 29,
   "outputs": [],
   "source": [],
   "metadata": {
    "collapsed": false
   }
  }
 ],
 "metadata": {
  "kernelspec": {
   "display_name": "Python 3",
   "language": "python",
   "name": "python3"
  },
  "language_info": {
   "codemirror_mode": {
    "name": "ipython",
    "version": 2
   },
   "file_extension": ".py",
   "mimetype": "text/x-python",
   "name": "python",
   "nbconvert_exporter": "python",
   "pygments_lexer": "ipython2",
   "version": "2.7.6"
  }
 },
 "nbformat": 4,
 "nbformat_minor": 0
}
