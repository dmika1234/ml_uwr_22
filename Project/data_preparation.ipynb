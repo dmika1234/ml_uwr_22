{
 "nbformat": 4,
 "nbformat_minor": 0,
 "metadata": {
  "colab": {
   "provenance": []
  },
  "kernelspec": {
   "name": "python3",
   "display_name": "Python 3"
  },
  "language_info": {
   "name": "python"
  }
 },
 "cells": [
  {
   "cell_type": "code",
   "execution_count": 2,
   "metadata": {
    "id": "kQSimBeEXjPP"
   },
   "outputs": [],
   "source": [
    "import pandas as pd\n",
    "import numpy as np\n",
    "import nltk\n",
    "from nltk.corpus import stopwords\n",
    "from nltk.tokenize import RegexpTokenizer\n",
    "from nltk.stem import WordNetLemmatizer"
   ]
  },
  {
   "cell_type": "code",
   "source": [
    "# Localy\n",
    "# data_url = 'https://github.com/dmika1234/ml_uwr_22/blob/Project/Project/data/fake_job_postings.csv'\n",
    "data_path = 'data/fake_job_postings.csv'\n",
    "raw_data = pd.read_csv(data_path)\n",
    "\n",
    "\n",
    "# For colab\n",
    "# data_url = '/content/fake_job_postings.csv'\n",
    "# raw_data = pd.read_csv(data_url, error_bad_lines=False, engine=\"python\")\n",
    "#straszny problem miałem, żeby wczytać te dane tak ja ty to robiłeś. dziwne błędy mi wyskakiwały"
   ],
   "metadata": {
    "id": "YwscN-J5Xqa3",
    "colab": {
     "base_uri": "https://localhost:8080/"
    },
    "outputId": "666145b3-4b53-4907-db2e-a3463a885b2c"
   },
   "execution_count": 3,
   "outputs": []
  },
  {
   "cell_type": "markdown",
   "source": [
    "# Text data preprocessing"
   ],
   "metadata": {
    "collapsed": false
   }
  },
  {
   "cell_type": "markdown",
   "source": [
    "Removing punctuation, stop words and grouping together the different inflected forms of a word."
   ],
   "metadata": {
    "id": "F8eqrqN39-2J"
   }
  },
  {
   "cell_type": "code",
   "source": [
    "text_colnames = ['company_profile', 'description', 'requirements', 'benefits']\n",
    "text_data = raw_data[['job_id'] + text_colnames]\n",
    "text_data.fillna('', inplace = True)\n",
    "\n",
    "tokenizer = RegexpTokenizer(r'\\w+')\n",
    "nltk.download('stopwords') \n",
    "nltk.download('wordnet')\n",
    "nltk.download('omw-1.4')\n",
    "stop_words = set(stopwords.words('english'))\n",
    "lemmatizer = WordNetLemmatizer()\n",
    "\n",
    "for i in range(text_data.shape[0]):\n",
    "    for col in ['company_profile', 'description', 'requirements', 'benefits']:\n",
    "        text_data.at[i,col] = tokenizer.tokenize(text_data.at[i,col].lower()) # removing punctuation\n",
    "        filtered_sentence = []\n",
    "        for w in text_data.at[i,col]:\n",
    "            if w not in stop_words: # removing words such as “the”, “a”, “an”, “in”\n",
    "                filtered_sentence.append(lemmatizer.lemmatize(w)) # grouping together the different inflected forms of a word \n",
    "        text_data.at[i,col] = np.array(filtered_sentence)"
   ],
   "metadata": {
    "colab": {
     "base_uri": "https://localhost:8080/"
    },
    "id": "8-ZSgSF-ahj8",
    "outputId": "21a9e6e8-13ef-4840-c953-f432d95ce5b1"
   },
   "execution_count": 4,
   "outputs": [
    {
     "name": "stderr",
     "output_type": "stream",
     "text": [
      "C:\\Users\\dmika\\AppData\\Local\\Temp\\ipykernel_12208\\426744585.py:3: SettingWithCopyWarning: \n",
      "A value is trying to be set on a copy of a slice from a DataFrame\n",
      "\n",
      "See the caveats in the documentation: https://pandas.pydata.org/pandas-docs/stable/user_guide/indexing.html#returning-a-view-versus-a-copy\n",
      "  text_data.fillna('', inplace = True)\n",
      "[nltk_data] Downloading package stopwords to\n",
      "[nltk_data]     C:\\Users\\dmika\\AppData\\Roaming\\nltk_data...\n",
      "[nltk_data]   Package stopwords is already up-to-date!\n",
      "[nltk_data] Downloading package wordnet to\n",
      "[nltk_data]     C:\\Users\\dmika\\AppData\\Roaming\\nltk_data...\n",
      "[nltk_data]   Package wordnet is already up-to-date!\n",
      "[nltk_data] Downloading package omw-1.4 to\n",
      "[nltk_data]     C:\\Users\\dmika\\AppData\\Roaming\\nltk_data...\n",
      "[nltk_data]   Package omw-1.4 is already up-to-date!\n"
     ]
    }
   ]
  },
  {
   "cell_type": "code",
   "source": [
    "text_data"
   ],
   "metadata": {
    "colab": {
     "base_uri": "https://localhost:8080/",
     "height": 468
    },
    "id": "5runOZ7D3MXp",
    "outputId": "709d1409-694e-4d7d-8d08-bc3525e86f13"
   },
   "execution_count": 5,
   "outputs": [
    {
     "data": {
      "text/plain": "       job_id                                    company_profile  \\\n0           1  [food52, created, groundbreaking, award, winni...   \n1           2  [90, second, world, cloud, video, production, ...   \n2           3  [valor, service, provides, workforce, solution...   \n3           4  [passion, improving, quality, life, geography,...   \n4           5  [spotsource, solution, llc, global, human, cap...   \n...       ...                                                ...   \n17875   17876  [vend, looking, awesome, new, talent, come, jo...   \n17876   17877  [weblinc, e, commerce, platform, service, prov...   \n17877   17878  [provide, full, time, permanent, position, man...   \n17878   17879                                                 []   \n17879   17880  [vend, looking, awesome, new, talent, come, jo...   \n\n                                             description  \\\n0      [food52, fast, growing, james, beard, award, w...   \n1      [organised, focused, vibrant, awesome, passion...   \n2      [client, located, houston, actively, seeking, ...   \n3      [company, esri, environmental, system, researc...   \n4      [job, title, itemization, review, managerlocat...   \n...                                                  ...   \n17875  [case, first, time, visited, website, vend, aw...   \n17876  [payroll, accountant, focus, primarily, payrol...   \n17877  [experienced, project, cost, control, staff, e...   \n17878  [nemsia, studio, looking, experienced, visual,...   \n17879  [vend, award, winning, web, based, point, sale...   \n\n                                            requirements  \\\n0      [experience, content, management, system, majo...   \n1      [expect, key, responsibility, communicate, cli...   \n2      [implement, pre, commissioning, commissioning,...   \n3      [education, bachelor, master, gi, business, ad...   \n4      [qualification, rn, license, state, texasdiplo...   \n...                                                  ...   \n17875  [ace, role, eat, comprehensive, statement, wor...   \n17876  [b, b, accounting, desire, fun, love, genuine,...   \n17877  [least, 12, year, professional, experience, ab...   \n17878  [1, must, fluent, latest, version, corel, amp,...   \n17879  [want, hear, depth, understanding, oo, program...   \n\n                                                benefits  \n0                                                     []  \n1      [get, usthrough, part, 90, second, team, gain,...  \n2                                                     []  \n3      [culture, anything, corporate, collaborative, ...  \n4                               [full, benefit, offered]  \n...                                                  ...  \n17875  [expect, u, open, culture, openly, share, resu...  \n17876  [health, amp, wellnessmedical, planprescriptio...  \n17877                                                 []  \n17878  [competitive, salary, compensation, based, exp...  \n17879                                                 []  \n\n[17880 rows x 5 columns]",
      "text/html": "<div>\n<style scoped>\n    .dataframe tbody tr th:only-of-type {\n        vertical-align: middle;\n    }\n\n    .dataframe tbody tr th {\n        vertical-align: top;\n    }\n\n    .dataframe thead th {\n        text-align: right;\n    }\n</style>\n<table border=\"1\" class=\"dataframe\">\n  <thead>\n    <tr style=\"text-align: right;\">\n      <th></th>\n      <th>job_id</th>\n      <th>company_profile</th>\n      <th>description</th>\n      <th>requirements</th>\n      <th>benefits</th>\n    </tr>\n  </thead>\n  <tbody>\n    <tr>\n      <th>0</th>\n      <td>1</td>\n      <td>[food52, created, groundbreaking, award, winni...</td>\n      <td>[food52, fast, growing, james, beard, award, w...</td>\n      <td>[experience, content, management, system, majo...</td>\n      <td>[]</td>\n    </tr>\n    <tr>\n      <th>1</th>\n      <td>2</td>\n      <td>[90, second, world, cloud, video, production, ...</td>\n      <td>[organised, focused, vibrant, awesome, passion...</td>\n      <td>[expect, key, responsibility, communicate, cli...</td>\n      <td>[get, usthrough, part, 90, second, team, gain,...</td>\n    </tr>\n    <tr>\n      <th>2</th>\n      <td>3</td>\n      <td>[valor, service, provides, workforce, solution...</td>\n      <td>[client, located, houston, actively, seeking, ...</td>\n      <td>[implement, pre, commissioning, commissioning,...</td>\n      <td>[]</td>\n    </tr>\n    <tr>\n      <th>3</th>\n      <td>4</td>\n      <td>[passion, improving, quality, life, geography,...</td>\n      <td>[company, esri, environmental, system, researc...</td>\n      <td>[education, bachelor, master, gi, business, ad...</td>\n      <td>[culture, anything, corporate, collaborative, ...</td>\n    </tr>\n    <tr>\n      <th>4</th>\n      <td>5</td>\n      <td>[spotsource, solution, llc, global, human, cap...</td>\n      <td>[job, title, itemization, review, managerlocat...</td>\n      <td>[qualification, rn, license, state, texasdiplo...</td>\n      <td>[full, benefit, offered]</td>\n    </tr>\n    <tr>\n      <th>...</th>\n      <td>...</td>\n      <td>...</td>\n      <td>...</td>\n      <td>...</td>\n      <td>...</td>\n    </tr>\n    <tr>\n      <th>17875</th>\n      <td>17876</td>\n      <td>[vend, looking, awesome, new, talent, come, jo...</td>\n      <td>[case, first, time, visited, website, vend, aw...</td>\n      <td>[ace, role, eat, comprehensive, statement, wor...</td>\n      <td>[expect, u, open, culture, openly, share, resu...</td>\n    </tr>\n    <tr>\n      <th>17876</th>\n      <td>17877</td>\n      <td>[weblinc, e, commerce, platform, service, prov...</td>\n      <td>[payroll, accountant, focus, primarily, payrol...</td>\n      <td>[b, b, accounting, desire, fun, love, genuine,...</td>\n      <td>[health, amp, wellnessmedical, planprescriptio...</td>\n    </tr>\n    <tr>\n      <th>17877</th>\n      <td>17878</td>\n      <td>[provide, full, time, permanent, position, man...</td>\n      <td>[experienced, project, cost, control, staff, e...</td>\n      <td>[least, 12, year, professional, experience, ab...</td>\n      <td>[]</td>\n    </tr>\n    <tr>\n      <th>17878</th>\n      <td>17879</td>\n      <td>[]</td>\n      <td>[nemsia, studio, looking, experienced, visual,...</td>\n      <td>[1, must, fluent, latest, version, corel, amp,...</td>\n      <td>[competitive, salary, compensation, based, exp...</td>\n    </tr>\n    <tr>\n      <th>17879</th>\n      <td>17880</td>\n      <td>[vend, looking, awesome, new, talent, come, jo...</td>\n      <td>[vend, award, winning, web, based, point, sale...</td>\n      <td>[want, hear, depth, understanding, oo, program...</td>\n      <td>[]</td>\n    </tr>\n  </tbody>\n</table>\n<p>17880 rows × 5 columns</p>\n</div>"
     },
     "execution_count": 5,
     "metadata": {},
     "output_type": "execute_result"
    }
   ]
  },
  {
   "cell_type": "markdown",
   "source": [
    "Most popular words"
   ],
   "metadata": {
    "id": "F_ah6NdY-M4V"
   }
  },
  {
   "cell_type": "code",
   "execution_count": 6,
   "outputs": [],
   "source": [
    "all_words = {}\n",
    "for column_name in text_colnames:\n",
    "    all_words[column_name] = np.concatenate(text_data[column_name])"
   ],
   "metadata": {
    "collapsed": false
   }
  },
  {
   "cell_type": "code",
   "execution_count": 172,
   "outputs": [],
   "source": [
    "from collections import Counter\n",
    "\n",
    "number_of_most_common_wrds = 1000\n",
    "most_popular_words = {}\n",
    "for column_name in text_colnames:\n",
    "    count_words = Counter(all_words[column_name])\n",
    "    most_popular_words[column_name] = np.array(count_words.most_common(number_of_most_common_wrds))[:,0]"
   ],
   "metadata": {
    "collapsed": false
   }
  },
  {
   "cell_type": "code",
   "execution_count": 8,
   "outputs": [
    {
     "data": {
      "text/plain": "array(['work', 'benefit', 'company', 'competitive', 'team', 'opportunity',\n       'offer', 'salary', 'time', 'paid', 'amp', 'dental', 'full',\n       'insurance', 'day', 'employee', 'environment', 'working',\n       'package', 'hour', 'health', 'life', 'u', 'job', 'vacation',\n       'training', 'medical', 'holiday', 'experience', 'career', 'office',\n       'service', 'plan', 'vision', 'people', 'including', 'based',\n       'great', 'part', 'year', 'free', 'new', 'well', 'pay', 'get',\n       'compensation', 'bonus', 'business', 'see', 'also', 'growing',\n       'please', 'one', 'position', 'development', 'month', 'best',\n       'world', 'employment', '401k', 'make', 'option', 'fun', 'fast',\n       'technology', 'flexible', 'description', 'term', 'disability',\n       'product', 'growth', 'want', 'client', 'industry', 'per',\n       'international', 'startup', 'professional', 'solution', 'personal',\n       'lunch', 'provide', 'like', 'commission', 'sale', 'week',\n       'excellent', 'exciting', 'skill', 'include', 'creative',\n       'employer', 'start', 'need', 'application', 'comprehensive',\n       'plus', 'candidate', 'sick', 'apply', 'culture', 'role', '000',\n       'high', 'every', 'base', 'k', 'open', '1', 'available', 'friendly',\n       'long', 'perk', '3', 'program', 'stock', 'grow', 'snack',\n       'management', 'dynamic', 'match', 'help', 'value', 'within',\n       'customer', 'first', 'join', 'care', 'way', 'leave', 'chance',\n       'equity', '6', 'receive', 'support', 'location', 'performance',\n       'highly', 'hard', 'event', 'equal', 'includes', 'believe', '5',\n       'learning', 'status', 'project', 'learn', 'leading', 'brand',\n       'generous', 'group', 'potential', 'suite', 'site', 'may', 'data',\n       'etc', 'successful', 'take', 'medium', 'family', 'travel',\n       'mobile', 'top', 'marketing', 'coffee', '90', 'good',\n       'remuneration', 'e', 'building', 'global', '401', 'agency',\n       'share', 'right', 'play', 'much', 'lot', 'big', 'level', 'short',\n       'real', 'friday', 'tx', 'web', 'information', 'love', 'period',\n       'idea', 'passionate', 'online', 'around', '10', 'provided',\n       'future', '40', 'prospect', 'end', 'access', 'visit',\n       'collaborative', 'home', 'coverage', 'gym', 'outside', 'social',\n       'phone', 'without', 'success', 'expect', 'place', 'field',\n       'atmosphere', 'conference', 'policy', 'plenty', 'market',\n       'spending', 'national', 'applicant', 'reward', 'software',\n       'resume', 'many', 'advancement', 'individual', 'know', 'tech',\n       'send', 'come', 'develop', 'account', 'contract', 'qualification',\n       'following', 'give', '2', 'retirement', 'rate', 'membership',\n       'food', 'pto', 'staff', 'incentive', 'call', 'impact', 'healthy',\n       'amazing', 'veteran', 'center', 'reimbursement', 'happy', 'thing',\n       'create', 'race', 'protected', 'enjoy', 'fully', 'offering',\n       'across', 'result', 'strong', 'goal', 'stocked', 'cover',\n       'awesome', 'workplace', 'edge', '4', '100', 'forward', 'together',\n       'mso', 'regard', 'religion', 'challenging', 'interview', 'build',\n       'name', 'depending', 'however', '25', 'manager', 'use', '20',\n       'website', 'page', 'allowance', 'digital', 'annual', 'credit',\n       'london', 'colleague', 'expense', 'ability', 'nbsp', 'young',\n       'would', 'monthly', 'assistance', 'check', 'attractive', 'smart',\n       'looking', 'representative', 'structure', 'area', 'responsibility',\n       'line', 'quality', 'discount', '80', 'paced', 'balance', 'heart',\n       'quarterly', 'organization', 'cv', '30', 'member', 'drink',\n       'class', 'located', 'beer', 'tool', 'education', 'reference',\n       'motivated', 'color', 'additional', 'dependent', 'scheme', 'mean',\n       'choice', '9', 'problem', '8', 'qualified', 'communication',\n       'relaxed', 'process', 'upon', 'schedule', 'weekly', 'talent',\n       'keep', 'origin', 'become', 'space', 'cutting', '00', 'tax',\n       'dress', 'network', 'co', 'major', 'hr', 'something', 'cost',\n       'saving', 'ad', 'platform', 'provides', 'supplemental', 'talented',\n       'google', 'self', 'innovative', 'change', '15', 'sex', 'knowledge',\n       '14', 'door', 'go', 'delivery', 'really', 'done', 'leader',\n       'directly', 'daily', 'pension', 'healthcare', 'unlimited',\n       'related', 'aflac', 'increase', 'eligible', 'partner', 'address',\n       'direct', 'follow', 'local', 'interested', 'consider', 'twitter',\n       'tidewater', 'offered'], dtype='<U14')"
     },
     "execution_count": 8,
     "metadata": {},
     "output_type": "execute_result"
    }
   ],
   "source": [
    "most_popular_words['benefits']"
   ],
   "metadata": {
    "collapsed": false
   }
  },
  {
   "cell_type": "markdown",
   "source": [
    "# One-hot encoding"
   ],
   "metadata": {
    "collapsed": false
   }
  },
  {
   "cell_type": "code",
   "execution_count": 173,
   "outputs": [],
   "source": [
    "onehot_dfs = {}\n",
    "for text_colname in text_colnames:\n",
    "    onehot_array = np.zeros((text_data.shape[0], number_of_most_common_wrds))\n",
    "    for i in np.arange(text_data.shape[0]):\n",
    "        onehot_array[i] = np.isin(most_popular_words[text_colname], text_data[text_colname][i]).astype('int64')\n",
    "    column_names = np.vectorize(lambda x: text_colname + '_' + str(x))(most_popular_words[text_colname])\n",
    "    onehot_dfs[text_colname] = pd.DataFrame(onehot_array, columns=column_names)"
   ],
   "metadata": {
    "collapsed": false
   }
  },
  {
   "cell_type": "markdown",
   "source": [
    "# Preparing other columns to model"
   ],
   "metadata": {
    "collapsed": false
   }
  },
  {
   "cell_type": "code",
   "execution_count": 36,
   "outputs": [
    {
     "data": {
      "text/plain": "       job_id                                              title  \\\n0           1                                   Marketing Intern   \n1           2          Customer Service - Cloud Video Production   \n2           3            Commissioning Machinery Assistant (CMA)   \n3           4                  Account Executive - Washington DC   \n4           5                                Bill Review Manager   \n...       ...                                                ...   \n17875   17876                   Account Director - Distribution    \n17876   17877                                 Payroll Accountant   \n17877   17878  Project Cost Control Staff Engineer - Cost Con...   \n17878   17879                                   Graphic Designer   \n17879   17880                         Web Application Developers   \n\n                   location   department salary_range  \\\n0          US, NY, New York    Marketing                \n1            NZ, , Auckland      Success                \n2             US, IA, Wever                             \n3        US, DC, Washington        Sales                \n4        US, FL, Fort Worth                             \n...                     ...          ...          ...   \n17875       CA, ON, Toronto        Sales                \n17876  US, PA, Philadelphia   Accounting                \n17877       US, TX, Houston                             \n17878         NG, LA, Lagos                             \n17879     NZ, N, Wellington  Engineering                \n\n                                         company_profile  \\\n0      We're Food52, and we've created a groundbreaki...   \n1      90 Seconds, the worlds Cloud Video Production ...   \n2      Valor Services provides Workforce Solutions th...   \n3      Our passion for improving quality of life thro...   \n4      SpotSource Solutions LLC is a Global Human Cap...   \n...                                                  ...   \n17875  Vend is looking for some awesome new talent to...   \n17876  WebLinc is the e-commerce platform and service...   \n17877  We Provide Full Time Permanent Positions for m...   \n17878                                                      \n17879  Vend is looking for some awesome new talent to...   \n\n                                             description  \\\n0      Food52, a fast-growing, James Beard Award-winn...   \n1      Organised - Focused - Vibrant - Awesome!Do you...   \n2      Our client, located in Houston, is actively se...   \n3      THE COMPANY: ESRI – Environmental Systems Rese...   \n4      JOB TITLE: Itemization Review ManagerLOCATION:...   \n...                                                  ...   \n17875  Just in case this is the first time you’ve vis...   \n17876  The Payroll Accountant will focus primarily on...   \n17877  Experienced Project Cost Control Staff Enginee...   \n17878  Nemsia Studios is looking for an experienced v...   \n17879  Who are we?Vend is an award winning web based ...   \n\n                                            requirements  \\\n0      Experience with content management systems a m...   \n1      What we expect from you:Your key responsibilit...   \n2      Implement pre-commissioning and commissioning ...   \n3      EDUCATION: Bachelor’s or Master’s in GIS, busi...   \n4      QUALIFICATIONS:RN license in the State of Texa...   \n...                                                  ...   \n17875  To ace this role you:Will eat comprehensive St...   \n17876  - B.A. or B.S. in Accounting- Desire to have f...   \n17877  At least 12 years professional experience.Abil...   \n17878  1. Must be fluent in the latest versions of Co...   \n17879  We want to hear from you if:You have an in-dep...   \n\n                                                benefits  telecommuting  \\\n0                                                                     0   \n1      What you will get from usThrough being part of...              0   \n2                                                                     0   \n3      Our culture is anything but corporate—we have ...              0   \n4                                  Full Benefits Offered              0   \n...                                                  ...            ...   \n17875  What can you expect from us?We have an open cu...              0   \n17876  Health &amp; WellnessMedical planPrescription ...              0   \n17877                                                                 0   \n17878  Competitive salary (compensation will be based...              0   \n17879                                                                 0   \n\n       has_company_logo  has_questions employment_type required_experience  \\\n0                     1              0           Other          Internship   \n1                     1              0       Full-time      Not Applicable   \n2                     1              0                                       \n3                     1              0       Full-time    Mid-Senior level   \n4                     1              1       Full-time    Mid-Senior level   \n...                 ...            ...             ...                 ...   \n17875                 1              1       Full-time    Mid-Senior level   \n17876                 1              1       Full-time    Mid-Senior level   \n17877                 0              0       Full-time                       \n17878                 0              1        Contract      Not Applicable   \n17879                 1              1       Full-time    Mid-Senior level   \n\n      required_education                   industry              function  \\\n0                                                               Marketing   \n1                         Marketing and Advertising      Customer Service   \n2                                                                           \n3      Bachelor's Degree          Computer Software                 Sales   \n4      Bachelor's Degree     Hospital & Health Care  Health Care Provider   \n...                  ...                        ...                   ...   \n17875                             Computer Software                 Sales   \n17876  Bachelor's Degree                   Internet   Accounting/Auditing   \n17877                                                                       \n17878       Professional             Graphic Design                Design   \n17879                             Computer Software           Engineering   \n\n       fraudulent  \n0               0  \n1               0  \n2               0  \n3               0  \n4               0  \n...           ...  \n17875           0  \n17876           0  \n17877           0  \n17878           0  \n17879           0  \n\n[17880 rows x 18 columns]",
      "text/html": "<div>\n<style scoped>\n    .dataframe tbody tr th:only-of-type {\n        vertical-align: middle;\n    }\n\n    .dataframe tbody tr th {\n        vertical-align: top;\n    }\n\n    .dataframe thead th {\n        text-align: right;\n    }\n</style>\n<table border=\"1\" class=\"dataframe\">\n  <thead>\n    <tr style=\"text-align: right;\">\n      <th></th>\n      <th>job_id</th>\n      <th>title</th>\n      <th>location</th>\n      <th>department</th>\n      <th>salary_range</th>\n      <th>company_profile</th>\n      <th>description</th>\n      <th>requirements</th>\n      <th>benefits</th>\n      <th>telecommuting</th>\n      <th>has_company_logo</th>\n      <th>has_questions</th>\n      <th>employment_type</th>\n      <th>required_experience</th>\n      <th>required_education</th>\n      <th>industry</th>\n      <th>function</th>\n      <th>fraudulent</th>\n    </tr>\n  </thead>\n  <tbody>\n    <tr>\n      <th>0</th>\n      <td>1</td>\n      <td>Marketing Intern</td>\n      <td>US, NY, New York</td>\n      <td>Marketing</td>\n      <td></td>\n      <td>We're Food52, and we've created a groundbreaki...</td>\n      <td>Food52, a fast-growing, James Beard Award-winn...</td>\n      <td>Experience with content management systems a m...</td>\n      <td></td>\n      <td>0</td>\n      <td>1</td>\n      <td>0</td>\n      <td>Other</td>\n      <td>Internship</td>\n      <td></td>\n      <td></td>\n      <td>Marketing</td>\n      <td>0</td>\n    </tr>\n    <tr>\n      <th>1</th>\n      <td>2</td>\n      <td>Customer Service - Cloud Video Production</td>\n      <td>NZ, , Auckland</td>\n      <td>Success</td>\n      <td></td>\n      <td>90 Seconds, the worlds Cloud Video Production ...</td>\n      <td>Organised - Focused - Vibrant - Awesome!Do you...</td>\n      <td>What we expect from you:Your key responsibilit...</td>\n      <td>What you will get from usThrough being part of...</td>\n      <td>0</td>\n      <td>1</td>\n      <td>0</td>\n      <td>Full-time</td>\n      <td>Not Applicable</td>\n      <td></td>\n      <td>Marketing and Advertising</td>\n      <td>Customer Service</td>\n      <td>0</td>\n    </tr>\n    <tr>\n      <th>2</th>\n      <td>3</td>\n      <td>Commissioning Machinery Assistant (CMA)</td>\n      <td>US, IA, Wever</td>\n      <td></td>\n      <td></td>\n      <td>Valor Services provides Workforce Solutions th...</td>\n      <td>Our client, located in Houston, is actively se...</td>\n      <td>Implement pre-commissioning and commissioning ...</td>\n      <td></td>\n      <td>0</td>\n      <td>1</td>\n      <td>0</td>\n      <td></td>\n      <td></td>\n      <td></td>\n      <td></td>\n      <td></td>\n      <td>0</td>\n    </tr>\n    <tr>\n      <th>3</th>\n      <td>4</td>\n      <td>Account Executive - Washington DC</td>\n      <td>US, DC, Washington</td>\n      <td>Sales</td>\n      <td></td>\n      <td>Our passion for improving quality of life thro...</td>\n      <td>THE COMPANY: ESRI – Environmental Systems Rese...</td>\n      <td>EDUCATION: Bachelor’s or Master’s in GIS, busi...</td>\n      <td>Our culture is anything but corporate—we have ...</td>\n      <td>0</td>\n      <td>1</td>\n      <td>0</td>\n      <td>Full-time</td>\n      <td>Mid-Senior level</td>\n      <td>Bachelor's Degree</td>\n      <td>Computer Software</td>\n      <td>Sales</td>\n      <td>0</td>\n    </tr>\n    <tr>\n      <th>4</th>\n      <td>5</td>\n      <td>Bill Review Manager</td>\n      <td>US, FL, Fort Worth</td>\n      <td></td>\n      <td></td>\n      <td>SpotSource Solutions LLC is a Global Human Cap...</td>\n      <td>JOB TITLE: Itemization Review ManagerLOCATION:...</td>\n      <td>QUALIFICATIONS:RN license in the State of Texa...</td>\n      <td>Full Benefits Offered</td>\n      <td>0</td>\n      <td>1</td>\n      <td>1</td>\n      <td>Full-time</td>\n      <td>Mid-Senior level</td>\n      <td>Bachelor's Degree</td>\n      <td>Hospital &amp; Health Care</td>\n      <td>Health Care Provider</td>\n      <td>0</td>\n    </tr>\n    <tr>\n      <th>...</th>\n      <td>...</td>\n      <td>...</td>\n      <td>...</td>\n      <td>...</td>\n      <td>...</td>\n      <td>...</td>\n      <td>...</td>\n      <td>...</td>\n      <td>...</td>\n      <td>...</td>\n      <td>...</td>\n      <td>...</td>\n      <td>...</td>\n      <td>...</td>\n      <td>...</td>\n      <td>...</td>\n      <td>...</td>\n      <td>...</td>\n    </tr>\n    <tr>\n      <th>17875</th>\n      <td>17876</td>\n      <td>Account Director - Distribution</td>\n      <td>CA, ON, Toronto</td>\n      <td>Sales</td>\n      <td></td>\n      <td>Vend is looking for some awesome new talent to...</td>\n      <td>Just in case this is the first time you’ve vis...</td>\n      <td>To ace this role you:Will eat comprehensive St...</td>\n      <td>What can you expect from us?We have an open cu...</td>\n      <td>0</td>\n      <td>1</td>\n      <td>1</td>\n      <td>Full-time</td>\n      <td>Mid-Senior level</td>\n      <td></td>\n      <td>Computer Software</td>\n      <td>Sales</td>\n      <td>0</td>\n    </tr>\n    <tr>\n      <th>17876</th>\n      <td>17877</td>\n      <td>Payroll Accountant</td>\n      <td>US, PA, Philadelphia</td>\n      <td>Accounting</td>\n      <td></td>\n      <td>WebLinc is the e-commerce platform and service...</td>\n      <td>The Payroll Accountant will focus primarily on...</td>\n      <td>- B.A. or B.S. in Accounting- Desire to have f...</td>\n      <td>Health &amp;amp; WellnessMedical planPrescription ...</td>\n      <td>0</td>\n      <td>1</td>\n      <td>1</td>\n      <td>Full-time</td>\n      <td>Mid-Senior level</td>\n      <td>Bachelor's Degree</td>\n      <td>Internet</td>\n      <td>Accounting/Auditing</td>\n      <td>0</td>\n    </tr>\n    <tr>\n      <th>17877</th>\n      <td>17878</td>\n      <td>Project Cost Control Staff Engineer - Cost Con...</td>\n      <td>US, TX, Houston</td>\n      <td></td>\n      <td></td>\n      <td>We Provide Full Time Permanent Positions for m...</td>\n      <td>Experienced Project Cost Control Staff Enginee...</td>\n      <td>At least 12 years professional experience.Abil...</td>\n      <td></td>\n      <td>0</td>\n      <td>0</td>\n      <td>0</td>\n      <td>Full-time</td>\n      <td></td>\n      <td></td>\n      <td></td>\n      <td></td>\n      <td>0</td>\n    </tr>\n    <tr>\n      <th>17878</th>\n      <td>17879</td>\n      <td>Graphic Designer</td>\n      <td>NG, LA, Lagos</td>\n      <td></td>\n      <td></td>\n      <td></td>\n      <td>Nemsia Studios is looking for an experienced v...</td>\n      <td>1. Must be fluent in the latest versions of Co...</td>\n      <td>Competitive salary (compensation will be based...</td>\n      <td>0</td>\n      <td>0</td>\n      <td>1</td>\n      <td>Contract</td>\n      <td>Not Applicable</td>\n      <td>Professional</td>\n      <td>Graphic Design</td>\n      <td>Design</td>\n      <td>0</td>\n    </tr>\n    <tr>\n      <th>17879</th>\n      <td>17880</td>\n      <td>Web Application Developers</td>\n      <td>NZ, N, Wellington</td>\n      <td>Engineering</td>\n      <td></td>\n      <td>Vend is looking for some awesome new talent to...</td>\n      <td>Who are we?Vend is an award winning web based ...</td>\n      <td>We want to hear from you if:You have an in-dep...</td>\n      <td></td>\n      <td>0</td>\n      <td>1</td>\n      <td>1</td>\n      <td>Full-time</td>\n      <td>Mid-Senior level</td>\n      <td></td>\n      <td>Computer Software</td>\n      <td>Engineering</td>\n      <td>0</td>\n    </tr>\n  </tbody>\n</table>\n<p>17880 rows × 18 columns</p>\n</div>"
     },
     "execution_count": 36,
     "metadata": {},
     "output_type": "execute_result"
    }
   ],
   "source": [
    "raw_data"
   ],
   "metadata": {
    "collapsed": false
   }
  },
  {
   "cell_type": "code",
   "execution_count": 174,
   "outputs": [],
   "source": [
    "working_df = raw_data.copy()"
   ],
   "metadata": {
    "collapsed": false
   }
  },
  {
   "cell_type": "markdown",
   "source": [
    "Spliting location into country, state, city"
   ],
   "metadata": {
    "collapsed": false
   }
  },
  {
   "cell_type": "code",
   "execution_count": 175,
   "outputs": [],
   "source": [
    "working_df[['country', 'state', 'city']] = working_df['location'].str.split(',', expand=True).iloc[:,0:3]"
   ],
   "metadata": {
    "collapsed": false
   }
  },
  {
   "cell_type": "markdown",
   "source": [
    "Splitting salary range into min, max salary"
   ],
   "metadata": {
    "collapsed": false
   }
  },
  {
   "cell_type": "code",
   "execution_count": 176,
   "outputs": [],
   "source": [
    "working_df[['salary_min', 'salary_max']] = working_df['salary_range'].str.split('-', expand=True)\n",
    "working_df[['salary_min', 'salary_max']] = working_df[['salary_min', 'salary_max']].apply(pd.to_numeric, errors='coerce').fillna(-1)"
   ],
   "metadata": {
    "collapsed": false
   }
  },
  {
   "cell_type": "markdown",
   "source": [
    "Getting column names for later"
   ],
   "metadata": {
    "collapsed": false
   }
  },
  {
   "cell_type": "code",
   "execution_count": 177,
   "outputs": [
    {
     "name": "stdout",
     "output_type": "stream",
     "text": [
      "['has_questions', 'has_company_logo', 'telecommuting', 'salary_min', 'salary_max']\n",
      "['company_profile', 'description', 'requirements', 'benefits']\n",
      "['country', 'employment_type', 'industry', 'required_experience', 'function', 'state', 'department', 'city', 'title', 'required_education']\n"
     ]
    }
   ],
   "source": [
    "target_colname = 'fraudulent'\n",
    "# Getting numerical colnames and deleting not useful\n",
    "numerical_colnames = list(working_df.select_dtypes(include='int64').columns)\n",
    "numerical_colnames = list(set(numerical_colnames) - set(['job_id', target_colname]))\n",
    "numerical_colnames = numerical_colnames + ['salary_min', 'salary_max']\n",
    "# Getting other text colnames and deleting not useful\n",
    "other_text_colnames = list(set(working_df.select_dtypes(include='object').columns) - set(text_colnames))\n",
    "other_text_colnames = list(set(other_text_colnames) - set(['location', 'salary_range']))\n",
    "print(numerical_colnames)\n",
    "print(text_colnames)\n",
    "print(other_text_colnames)"
   ],
   "metadata": {
    "collapsed": false
   }
  },
  {
   "cell_type": "markdown",
   "source": [
    "Filling missing values"
   ],
   "metadata": {
    "collapsed": false
   }
  },
  {
   "cell_type": "code",
   "execution_count": 178,
   "outputs": [],
   "source": [
    "working_df[text_colnames + other_text_colnames] = working_df[text_colnames + other_text_colnames].fillna('')\n",
    "working_df[numerical_colnames] = working_df[numerical_colnames].fillna(0)"
   ],
   "metadata": {
    "collapsed": false
   }
  },
  {
   "cell_type": "code",
   "execution_count": 179,
   "outputs": [
    {
     "data": {
      "text/plain": "employment_type            6\nrequired_experience        8\nrequired_education        14\nfunction                  38\ncountry                   91\nindustry                 132\nstate                    326\ndepartment              1338\ncity                    2336\ntitle                  11231\ndtype: int64"
     },
     "execution_count": 179,
     "metadata": {},
     "output_type": "execute_result"
    }
   ],
   "source": [
    "working_df[other_text_colnames].apply(lambda x: np.unique(x).shape[0]).sort_values()"
   ],
   "metadata": {
    "collapsed": false
   }
  },
  {
   "cell_type": "markdown",
   "source": [
    "We will only use those with not so much levels(<50 for start)"
   ],
   "metadata": {
    "collapsed": false
   }
  },
  {
   "cell_type": "code",
   "execution_count": 180,
   "outputs": [],
   "source": [
    "final_other_text_colnames = ['employment_type', 'required_experience', 'required_education', 'function']"
   ],
   "metadata": {
    "collapsed": false
   }
  },
  {
   "cell_type": "markdown",
   "source": [
    "Creating final DataFrame for model"
   ],
   "metadata": {
    "collapsed": false
   }
  },
  {
   "cell_type": "code",
   "execution_count": 181,
   "outputs": [
    {
     "data": {
      "text/plain": "       employment_type_  employment_type_Contract  employment_type_Full-time  \\\n0                     0                         0                          0   \n1                     0                         0                          1   \n2                     1                         0                          0   \n3                     0                         0                          1   \n4                     0                         0                          1   \n...                 ...                       ...                        ...   \n17875                 0                         0                          1   \n17876                 0                         0                          1   \n17877                 0                         0                          1   \n17878                 0                         1                          0   \n17879                 0                         0                          1   \n\n       employment_type_Other  employment_type_Part-time  \\\n0                          1                          0   \n1                          0                          0   \n2                          0                          0   \n3                          0                          0   \n4                          0                          0   \n...                      ...                        ...   \n17875                      0                          0   \n17876                      0                          0   \n17877                      0                          0   \n17878                      0                          0   \n17879                      0                          0   \n\n       employment_type_Temporary  required_experience_  \\\n0                              0                     0   \n1                              0                     0   \n2                              0                     1   \n3                              0                     0   \n4                              0                     0   \n...                          ...                   ...   \n17875                          0                     0   \n17876                          0                     0   \n17877                          0                     1   \n17878                          0                     0   \n17879                          0                     0   \n\n       required_experience_Associate  required_experience_Director  \\\n0                                  0                             0   \n1                                  0                             0   \n2                                  0                             0   \n3                                  0                             0   \n4                                  0                             0   \n...                              ...                           ...   \n17875                              0                             0   \n17876                              0                             0   \n17877                              0                             0   \n17878                              0                             0   \n17879                              0                             0   \n\n       required_experience_Entry level  ...  benefits_solid  benefits_app  \\\n0                                    0  ...             0.0           0.0   \n1                                    0  ...             0.0           0.0   \n2                                    0  ...             0.0           0.0   \n3                                    0  ...             0.0           0.0   \n4                                    0  ...             0.0           0.0   \n...                                ...  ...             ...           ...   \n17875                                0  ...             0.0           0.0   \n17876                                0  ...             0.0           0.0   \n17877                                0  ...             0.0           0.0   \n17878                                0  ...             0.0           0.0   \n17879                                0  ...             0.0           0.0   \n\n       benefits_immediate  benefits_profitable  benefits_america  \\\n0                     0.0                  0.0               0.0   \n1                     0.0                  0.0               0.0   \n2                     0.0                  0.0               0.0   \n3                     0.0                  0.0               0.0   \n4                     0.0                  0.0               0.0   \n...                   ...                  ...               ...   \n17875                 0.0                  0.0               0.0   \n17876                 0.0                  0.0               0.0   \n17877                 0.0                  0.0               0.0   \n17878                 0.0                  0.0               0.0   \n17879                 0.0                  0.0               0.0   \n\n       has_questions  has_company_logo  telecommuting  salary_min  salary_max  \n0                  0                 1              0        -1.0        -1.0  \n1                  0                 1              0        -1.0        -1.0  \n2                  0                 1              0        -1.0        -1.0  \n3                  0                 1              0        -1.0        -1.0  \n4                  1                 1              0        -1.0        -1.0  \n...              ...               ...            ...         ...         ...  \n17875              1                 1              0        -1.0        -1.0  \n17876              1                 1              0        -1.0        -1.0  \n17877              0                 0              0        -1.0        -1.0  \n17878              1                 0              0        -1.0        -1.0  \n17879              1                 1              0        -1.0        -1.0  \n\n[17880 rows x 4071 columns]",
      "text/html": "<div>\n<style scoped>\n    .dataframe tbody tr th:only-of-type {\n        vertical-align: middle;\n    }\n\n    .dataframe tbody tr th {\n        vertical-align: top;\n    }\n\n    .dataframe thead th {\n        text-align: right;\n    }\n</style>\n<table border=\"1\" class=\"dataframe\">\n  <thead>\n    <tr style=\"text-align: right;\">\n      <th></th>\n      <th>employment_type_</th>\n      <th>employment_type_Contract</th>\n      <th>employment_type_Full-time</th>\n      <th>employment_type_Other</th>\n      <th>employment_type_Part-time</th>\n      <th>employment_type_Temporary</th>\n      <th>required_experience_</th>\n      <th>required_experience_Associate</th>\n      <th>required_experience_Director</th>\n      <th>required_experience_Entry level</th>\n      <th>...</th>\n      <th>benefits_solid</th>\n      <th>benefits_app</th>\n      <th>benefits_immediate</th>\n      <th>benefits_profitable</th>\n      <th>benefits_america</th>\n      <th>has_questions</th>\n      <th>has_company_logo</th>\n      <th>telecommuting</th>\n      <th>salary_min</th>\n      <th>salary_max</th>\n    </tr>\n  </thead>\n  <tbody>\n    <tr>\n      <th>0</th>\n      <td>0</td>\n      <td>0</td>\n      <td>0</td>\n      <td>1</td>\n      <td>0</td>\n      <td>0</td>\n      <td>0</td>\n      <td>0</td>\n      <td>0</td>\n      <td>0</td>\n      <td>...</td>\n      <td>0.0</td>\n      <td>0.0</td>\n      <td>0.0</td>\n      <td>0.0</td>\n      <td>0.0</td>\n      <td>0</td>\n      <td>1</td>\n      <td>0</td>\n      <td>-1.0</td>\n      <td>-1.0</td>\n    </tr>\n    <tr>\n      <th>1</th>\n      <td>0</td>\n      <td>0</td>\n      <td>1</td>\n      <td>0</td>\n      <td>0</td>\n      <td>0</td>\n      <td>0</td>\n      <td>0</td>\n      <td>0</td>\n      <td>0</td>\n      <td>...</td>\n      <td>0.0</td>\n      <td>0.0</td>\n      <td>0.0</td>\n      <td>0.0</td>\n      <td>0.0</td>\n      <td>0</td>\n      <td>1</td>\n      <td>0</td>\n      <td>-1.0</td>\n      <td>-1.0</td>\n    </tr>\n    <tr>\n      <th>2</th>\n      <td>1</td>\n      <td>0</td>\n      <td>0</td>\n      <td>0</td>\n      <td>0</td>\n      <td>0</td>\n      <td>1</td>\n      <td>0</td>\n      <td>0</td>\n      <td>0</td>\n      <td>...</td>\n      <td>0.0</td>\n      <td>0.0</td>\n      <td>0.0</td>\n      <td>0.0</td>\n      <td>0.0</td>\n      <td>0</td>\n      <td>1</td>\n      <td>0</td>\n      <td>-1.0</td>\n      <td>-1.0</td>\n    </tr>\n    <tr>\n      <th>3</th>\n      <td>0</td>\n      <td>0</td>\n      <td>1</td>\n      <td>0</td>\n      <td>0</td>\n      <td>0</td>\n      <td>0</td>\n      <td>0</td>\n      <td>0</td>\n      <td>0</td>\n      <td>...</td>\n      <td>0.0</td>\n      <td>0.0</td>\n      <td>0.0</td>\n      <td>0.0</td>\n      <td>0.0</td>\n      <td>0</td>\n      <td>1</td>\n      <td>0</td>\n      <td>-1.0</td>\n      <td>-1.0</td>\n    </tr>\n    <tr>\n      <th>4</th>\n      <td>0</td>\n      <td>0</td>\n      <td>1</td>\n      <td>0</td>\n      <td>0</td>\n      <td>0</td>\n      <td>0</td>\n      <td>0</td>\n      <td>0</td>\n      <td>0</td>\n      <td>...</td>\n      <td>0.0</td>\n      <td>0.0</td>\n      <td>0.0</td>\n      <td>0.0</td>\n      <td>0.0</td>\n      <td>1</td>\n      <td>1</td>\n      <td>0</td>\n      <td>-1.0</td>\n      <td>-1.0</td>\n    </tr>\n    <tr>\n      <th>...</th>\n      <td>...</td>\n      <td>...</td>\n      <td>...</td>\n      <td>...</td>\n      <td>...</td>\n      <td>...</td>\n      <td>...</td>\n      <td>...</td>\n      <td>...</td>\n      <td>...</td>\n      <td>...</td>\n      <td>...</td>\n      <td>...</td>\n      <td>...</td>\n      <td>...</td>\n      <td>...</td>\n      <td>...</td>\n      <td>...</td>\n      <td>...</td>\n      <td>...</td>\n      <td>...</td>\n    </tr>\n    <tr>\n      <th>17875</th>\n      <td>0</td>\n      <td>0</td>\n      <td>1</td>\n      <td>0</td>\n      <td>0</td>\n      <td>0</td>\n      <td>0</td>\n      <td>0</td>\n      <td>0</td>\n      <td>0</td>\n      <td>...</td>\n      <td>0.0</td>\n      <td>0.0</td>\n      <td>0.0</td>\n      <td>0.0</td>\n      <td>0.0</td>\n      <td>1</td>\n      <td>1</td>\n      <td>0</td>\n      <td>-1.0</td>\n      <td>-1.0</td>\n    </tr>\n    <tr>\n      <th>17876</th>\n      <td>0</td>\n      <td>0</td>\n      <td>1</td>\n      <td>0</td>\n      <td>0</td>\n      <td>0</td>\n      <td>0</td>\n      <td>0</td>\n      <td>0</td>\n      <td>0</td>\n      <td>...</td>\n      <td>0.0</td>\n      <td>0.0</td>\n      <td>0.0</td>\n      <td>0.0</td>\n      <td>0.0</td>\n      <td>1</td>\n      <td>1</td>\n      <td>0</td>\n      <td>-1.0</td>\n      <td>-1.0</td>\n    </tr>\n    <tr>\n      <th>17877</th>\n      <td>0</td>\n      <td>0</td>\n      <td>1</td>\n      <td>0</td>\n      <td>0</td>\n      <td>0</td>\n      <td>1</td>\n      <td>0</td>\n      <td>0</td>\n      <td>0</td>\n      <td>...</td>\n      <td>0.0</td>\n      <td>0.0</td>\n      <td>0.0</td>\n      <td>0.0</td>\n      <td>0.0</td>\n      <td>0</td>\n      <td>0</td>\n      <td>0</td>\n      <td>-1.0</td>\n      <td>-1.0</td>\n    </tr>\n    <tr>\n      <th>17878</th>\n      <td>0</td>\n      <td>1</td>\n      <td>0</td>\n      <td>0</td>\n      <td>0</td>\n      <td>0</td>\n      <td>0</td>\n      <td>0</td>\n      <td>0</td>\n      <td>0</td>\n      <td>...</td>\n      <td>0.0</td>\n      <td>0.0</td>\n      <td>0.0</td>\n      <td>0.0</td>\n      <td>0.0</td>\n      <td>1</td>\n      <td>0</td>\n      <td>0</td>\n      <td>-1.0</td>\n      <td>-1.0</td>\n    </tr>\n    <tr>\n      <th>17879</th>\n      <td>0</td>\n      <td>0</td>\n      <td>1</td>\n      <td>0</td>\n      <td>0</td>\n      <td>0</td>\n      <td>0</td>\n      <td>0</td>\n      <td>0</td>\n      <td>0</td>\n      <td>...</td>\n      <td>0.0</td>\n      <td>0.0</td>\n      <td>0.0</td>\n      <td>0.0</td>\n      <td>0.0</td>\n      <td>1</td>\n      <td>1</td>\n      <td>0</td>\n      <td>-1.0</td>\n      <td>-1.0</td>\n    </tr>\n  </tbody>\n</table>\n<p>17880 rows × 4071 columns</p>\n</div>"
     },
     "execution_count": 181,
     "metadata": {},
     "output_type": "execute_result"
    }
   ],
   "source": [
    "X = pd.get_dummies(working_df[final_other_text_colnames], columns=final_other_text_colnames)\n",
    "# Join one-hot encoded text data\n",
    "for text_colname in text_colnames:\n",
    "    X = pd.concat((X, onehot_dfs[text_colname]), axis=1)\n",
    "X[numerical_colnames] = working_df[numerical_colnames]\n",
    "y = working_df[target_colname]\n",
    "X"
   ],
   "metadata": {
    "collapsed": false
   }
  },
  {
   "cell_type": "markdown",
   "source": [
    "Creating train-test split"
   ],
   "metadata": {
    "collapsed": false
   }
  },
  {
   "cell_type": "code",
   "execution_count": 182,
   "outputs": [],
   "source": [
    "from sklearn.model_selection import train_test_split\n",
    "\n",
    "X_train, X_test, y_train, y_test = train_test_split(X, y, test_size=0.1, random_state=42, stratify=y)"
   ],
   "metadata": {
    "collapsed": false
   }
  },
  {
   "cell_type": "markdown",
   "source": [
    "First model"
   ],
   "metadata": {
    "collapsed": false
   }
  },
  {
   "cell_type": "code",
   "execution_count": 183,
   "outputs": [
    {
     "data": {
      "text/plain": "0.9513422818791947"
     },
     "execution_count": 183,
     "metadata": {},
     "output_type": "execute_result"
    }
   ],
   "source": [
    "from sklearn.linear_model import LogisticRegression\n",
    "\n",
    "clf = LogisticRegression().fit(X_train, y_train)"
   ],
   "metadata": {
    "collapsed": false
   }
  },
  {
   "cell_type": "code",
   "execution_count": 202,
   "outputs": [],
   "source": [
    "from sklearn.metrics import confusion_matrix, roc_auc_score\n",
    "\n",
    "\n",
    "def evaluate_performance(y_test, y_proba, threshold=0.2):\n",
    "    y_pred = (y_proba >= threshold).astype('int64')\n",
    "    results = {}\n",
    "    results['y_pred'] = y_pred\n",
    "    # Get the confusion matrix\n",
    "    tn, fp, fn, tp = confusion_matrix(y_test, y_pred).ravel()\n",
    "\n",
    "    # Calculate the detection percentage\n",
    "    results['detection_percentage'] = tp / (tp + fn)\n",
    "    # Calculate precision\n",
    "    results['precision'] = tp / (tp + fp)\n",
    "    # Calculate accuracy\n",
    "    results['accuracy'] = (tp + tn) / (tp + tn + fp + fn)\n",
    "    # Calculate F1-score\n",
    "    results['f1_score'] = 2 * (results['precision'] * results['detection_percentage']) /\\\n",
    "                          (results['precision'] + results['detection_percentage'])\n",
    "    results['auc_roc'] = roc_auc_score(y_test, y_proba)\n",
    "\n",
    "    return results\n"
   ],
   "metadata": {
    "collapsed": false
   }
  },
  {
   "cell_type": "code",
   "execution_count": 203,
   "outputs": [
    {
     "data": {
      "text/plain": "{'y_pred': array([0, 0, 0, ..., 0, 0, 0], dtype=int64),\n 'detection_percentage': 0.12643678160919541,\n 'precision': 0.19298245614035087,\n 'accuracy': 0.9317673378076062,\n 'f1_score': 0.15277777777777776,\n 'auc_roc': 0.7027171305587653}"
     },
     "execution_count": 203,
     "metadata": {},
     "output_type": "execute_result"
    }
   ],
   "source": [
    "y_proba = clf.predict_proba(X_test)[:, 1]\n",
    "res = evaluate_performance(y_test, y_proba, threshold=0.2)\n",
    "res"
   ],
   "metadata": {
    "collapsed": false
   }
  },
  {
   "cell_type": "markdown",
   "source": [
    "# All in one go"
   ],
   "metadata": {
    "collapsed": false
   }
  },
  {
   "cell_type": "code",
   "execution_count": 11,
   "outputs": [],
   "source": [
    "from sklearn.feature_extraction.text import CountVectorizer\n",
    "\n",
    "# Initialize the vectorizer\n",
    "vectorizer = CountVectorizer(stop_words='english', max_features=100)\n",
    "\n",
    "# fit_transform the vectorizer to your numpy array column\n",
    "raw_data.fillna('', inplace = True)\n",
    "X = vectorizer.fit_transform(raw_data['company_profile'])\n",
    "df = pd.DataFrame(X.todense(), columns=vectorizer.get_feature_names_out())"
   ],
   "metadata": {
    "collapsed": false
   }
  }
 ]
}
