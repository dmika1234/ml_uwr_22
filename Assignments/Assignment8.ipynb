{
 "cells": [
  {
   "cell_type": "markdown",
   "id": "0a549418",
   "metadata": {},
   "source": [
    "<a href=\"https://colab.research.google.com/github/marekpiotradamczyk/ml_uwr_22/blob/main/Assignments/Assignment8.ipynb\" target=\"_parent\"><img src=\"https://colab.research.google.com/assets/colab-badge.svg\" alt=\"Open In Colab\"/></a>"
   ]
  },
  {
   "cell_type": "markdown",
   "id": "b8928b0a",
   "metadata": {},
   "source": [
    "# Lab Assignment 8"
   ]
  },
  {
   "cell_type": "markdown",
   "id": "0fd7d72c",
   "metadata": {},
   "source": [
    "**Submission deadline:**\n",
    "* **lab session in the week 12-16.12.22**\n",
    "\n",
    "**Points: ??? points**\n"
   ]
  },
  {
   "cell_type": "code",
   "execution_count": 1,
   "id": "f95d810c",
   "metadata": {},
   "outputs": [],
   "source": [
    "# Please note that this code needs only to be run in a fresh runtime.\n",
    "# However, it can be rerun afterwards too.\n",
    "!pip install -q gdown httpimport"
   ]
  },
  {
   "cell_type": "code",
   "execution_count": 2,
   "id": "9450f84a",
   "metadata": {},
   "outputs": [
    {
     "name": "stderr",
     "output_type": "stream",
     "text": [
      "/Users/marek-ext/ml_uwr_22/uwr_venv/lib/python3.8/site-packages/tqdm/auto.py:22: TqdmWarning: IProgress not found. Please update jupyter and ipywidgets. See https://ipywidgets.readthedocs.io/en/stable/user_install.html\n",
      "  from .autonotebook import tqdm as notebook_tqdm\n"
     ]
    }
   ],
   "source": [
    "# Standard IPython notebook imports\n",
    "import itertools\n",
    "import io\n",
    "import os\n",
    "\n",
    "import matplotlib.pyplot as plt\n",
    "import numpy as np\n",
    "import pandas as pd\n",
    "import scipy.optimize as sopt\n",
    "import scipy.stats as sstats\n",
    "import seaborn as sns\n",
    "import sklearn.ensemble\n",
    "import sklearn.tree\n",
    "from sklearn import datasets\n",
    "from tqdm.auto import tqdm\n",
    "from matplotlib import animation, pyplot, rc\n",
    "\n",
    "import httpimport\n",
    "\n",
    "# In this way we can import functions straight from github\n",
    "with httpimport.github_repo(\n",
    "    \"janchorowski\", \"nn_assignments\", module=\"common\", branch=\"nn18\"\n",
    "):\n",
    "    from common.gradients import check_gradient\n",
    "    from common.plotting import plot_mat\n",
    "\n",
    "sns.set_style(\"whitegrid\")"
   ]
  },
  {
   "cell_type": "markdown",
   "id": "ea845399",
   "metadata": {},
   "source": [
    "# More of Gradient Descent"
   ]
  },
  {
   "cell_type": "markdown",
   "id": "84d8d80c",
   "metadata": {},
   "source": [
    "## Linear regression example"
   ]
  },
  {
   "cell_type": "code",
   "execution_count": 3,
   "id": "926e16f7",
   "metadata": {},
   "outputs": [],
   "source": [
    "# Repeat notebook initialization and data loading\n",
    "\n",
    "import numpy as np\n",
    "import pandas as pd\n",
    "import sklearn\n",
    "import sklearn.datasets\n",
    "import sklearn.linear_model\n",
    "import sklearn.neighbors\n",
    "import seaborn as sns\n",
    "import matplotlib.pyplot as plt\n",
    "\n",
    "iris = sklearn.datasets.load_iris()\n",
    "iris_df = pd.DataFrame(iris.data, columns=iris.feature_names)\n",
    "iris_df['target'] = pd.Categorical(iris.target_names[iris.target])"
   ]
  },
  {
   "cell_type": "code",
   "execution_count": 4,
   "id": "bd8ba15f",
   "metadata": {},
   "outputs": [
    {
     "data": {
      "image/png": "[encoded data removed]",
      "text/plain": [
       "<Figure size 640x480 with 1 Axes>"
      ]
     },
     "metadata": {},
     "output_type": "display_data"
    }
   ],
   "source": [
    "reg_feature='petal width (cm)'\n",
    "reg_target='petal length (cm)'\n",
    "\n",
    "# plot the length-widt relation\n",
    "sns.scatterplot(x=reg_feature, y=reg_target, data=iris_df)\n",
    "sns.set(rc={'figure.figsize':(8,8)})"
   ]
  },
  {
   "cell_type": "code",
   "execution_count": 5,
   "id": "605346d4",
   "metadata": {},
   "outputs": [],
   "source": [
    "X = iris_df[[reg_feature]]\n",
    "y = np.asarray(iris_df[reg_target]).reshape(-1,1)"
   ]
  },
  {
   "cell_type": "code",
   "execution_count": 6,
   "id": "a6ad4991",
   "metadata": {},
   "outputs": [],
   "source": [
    "\n",
    "class LinearRegression:\n",
    "        \n",
    "    def __init__(self):\n",
    "        pass\n",
    "    \n",
    "    def add_ones(self, X):\n",
    "        return np.hstack((np.ones((X.shape[0],1)), X))\n",
    "    \n",
    "    def grad(self, Theta, X, y):\n",
    "        n = X.shape[0]\n",
    "        E = X @ Theta - y\n",
    "        return (2./n) * X.T @ E\n",
    "\n",
    "    \n",
    "    def fit(self, X, y):\n",
    "        X = self.add_ones(X)\n",
    "        y = np.asarray(y).reshape(-1,1)\n",
    "        \n",
    "        Theta = np.zeros((X.shape[1], 1)) #sane starting Theta\n",
    "\n",
    "        alpha=1e-3\n",
    "        grad_norm = 1.\n",
    "        while (grad_norm > 1e-4):\n",
    "            grad_Theta = self.grad(Theta,X,y)\n",
    "            Theta = Theta - alpha*grad_Theta\n",
    "            \n",
    "            grad_norm = np.linalg.norm(grad_Theta)\n",
    "            \n",
    "        self.ThetaOpt = Theta\n",
    "    \n",
    "    def predict(self, X):\n",
    "        return self.add_ones(X) @ self.ThetaOpt"
   ]
  },
  {
   "cell_type": "code",
   "execution_count": 7,
   "id": "33039845",
   "metadata": {},
   "outputs": [
    {
     "name": "stdout",
     "output_type": "stream",
     "text": [
      "[[1.08376085]\n",
      " [2.22980612]]\n"
     ]
    }
   ],
   "source": [
    "model = LinearRegression()\n",
    "model.fit(X,y)\n",
    "print(model.ThetaOpt)"
   ]
  },
  {
   "cell_type": "code",
   "execution_count": 8,
   "id": "ea6cd353",
   "metadata": {},
   "outputs": [],
   "source": [
    "y_pred = model.predict(X)"
   ]
  },
  {
   "cell_type": "code",
   "execution_count": 9,
   "id": "06379c41",
   "metadata": {},
   "outputs": [],
   "source": [
    "def mse(y_true, y_pred):\n",
    "    return ((y_pred - y_true)**2).mean()"
   ]
  },
  {
   "cell_type": "code",
   "execution_count": 10,
   "id": "b014bc4d",
   "metadata": {},
   "outputs": [
    {
     "data": {
      "text/plain": [
       "0.2256316999349506"
      ]
     },
     "execution_count": 10,
     "metadata": {},
     "output_type": "execute_result"
    }
   ],
   "source": [
    "mse(y, y_pred)"
   ]
  },
  {
   "cell_type": "code",
   "execution_count": 11,
   "id": "5595cdc7",
   "metadata": {},
   "outputs": [
    {
     "data": {
      "image/png": "[encoded data removed]",
      "text/plain": [
       "<Figure size 800x800 with 1 Axes>"
      ]
     },
     "metadata": {},
     "output_type": "display_data"
    }
   ],
   "source": [
    "# plot the length-widt relation\n",
    "sns.scatterplot(x=reg_feature, y=reg_target, data=iris_df)\n",
    "sns.set(rc={'figure.figsize':(8,8)})\n",
    "\n",
    "# plot the proposed relationship\n",
    "length_bounds = np.array(plt.xlim())\n",
    "width_predictions = model.ThetaOpt[1] * length_bounds + model.ThetaOpt[0]\n",
    "\n",
    "plt.plot(length_bounds, width_predictions, color='r')\n",
    "_ = plt.text(0.8, 1.2, f\"$y = x \\cdot {float(model.ThetaOpt[1]):0.2} + {float(model.ThetaOpt[0]):0.2}$\")"
   ]
  },
  {
   "cell_type": "markdown",
   "id": "0e4d18eb",
   "metadata": {},
   "source": [
    "## Stochastic gradient descent"
   ]
  },
  {
   "cell_type": "markdown",
   "id": "3eae019a",
   "metadata": {},
   "source": [
    "The cost function for linear regression (assume $X$ is a vector of shape `(n,1)`) is $J_{X,y}(\\Theta) = \\frac{1}{n}\\sum_{i=1}^n \\left( y^{i} - \\Theta_0 - \\Theta_1 \\cdot x^{i}\\right)^2$. The gradient of the linear regression is equal to $\\frac{2}{n} X^T \\cdot (X \\cdot \\Theta - y)$. Let's break it down:\n",
    "\n",
    "$$\n",
    "\\begin{align}\n",
    "\\frac{\\partial J_{X,y}(\\Theta)}{\\partial \\Theta_0} &= - \\sum_{i=1}^n \\frac{2}{n}\\left( y^i - \\Theta_0 - \\Theta_1 \\cdot x^i\\right) \\\\\n",
    "\\frac{\\partial J_{X,y}(\\Theta)}{\\partial \\Theta_1} &= - \\sum_{i=1}^n \\frac{2}{n}\\left( y^i - \\Theta_0 - \\Theta_1 \\cdot x^i\\right) \\cdot x^i\n",
    "\\end{align}\n",
    "$$"
   ]
  },
  {
   "cell_type": "markdown",
   "id": "e93565a7",
   "metadata": {},
   "source": [
    "Notice one thing: if we will pick one training sample $x^{\\text{rand}}$ at random and calculate $- 2\\left( y^{\\text{rand}} - \\Theta_0 - \\Theta_1 \\cdot x^{\\text{rand}}\\right) \\cdot x^{\\text{rand}}$, then it's expected value will be equal to \n",
    "$$\n",
    "\\begin{align}\n",
    "\\mathbb{E}\\left[ - 2\\left( y^{\\mbox{rand}} - \\Theta_0 - \\Theta_1 \\cdot x^{\\mbox{rand}}\\right) \\cdot x^{\\mbox{rand}} \\right] = - \\sum_{i=1}^n \\frac{2}{n}\\left( y^i - \\Theta_0 - \\Theta_1 \\cdot x^i\\right) \\cdot x^i.\n",
    "\\end{align}\n",
    "$$\n",
    "\n",
    "Point being that one sample already may give a reasonable estimation of the gradient calculated on the whole set."
   ]
  },
  {
   "cell_type": "markdown",
   "id": "96033803",
   "metadata": {},
   "source": [
    "At the same time $- 2\\left( y^{\\text{rand}} - \\Theta_0 - \\Theta_1 \\cdot x^{\\text{rand}}\\right) \\cdot x^{\\text{rand}}$ just happens to be the gradient over $\\Theta_1$ for the loss function calculated not on the entire $X$ (which is $\\frac{\\partial J_{X,y}(\\Theta)}{\\partial \\Theta_1}$, but on $[x^{\\text{rand}}]$ being $$\\frac{\\partial J_{x^{\\text{rand}},y^{\\text{rand}}}(\\Theta)}{\\partial \\Theta_1}$$."
   ]
  },
  {
   "cell_type": "markdown",
   "id": "e90131dd",
   "metadata": {},
   "source": [
    "Point being that the calculations of the gradient do not have to look at the entire set. Let's look at the linear regression example one more time. **Remark** the below is the extreme case when we calculate the gradient only on one sample. In practice it may be better to "
   ]
  },
  {
   "cell_type": "code",
   "execution_count": 31,
   "id": "18ce3225",
   "metadata": {},
   "outputs": [],
   "source": [
    "\n",
    "class StochasticGradientDescentLinearRegression:\n",
    "        \n",
    "    def __init__(self):\n",
    "        pass\n",
    "    \n",
    "    def add_ones(self, X):\n",
    "        return np.hstack((np.ones((X.shape[0],1)), X))\n",
    "    \n",
    "    def grad(self, Theta, X, y):\n",
    "        #############################################\n",
    "        ############  LOOK HERE  ####################\n",
    "        #############################################\n",
    "\n",
    "        rand = np.random.randint(X.shape[0])\n",
    "        x_rand = X[rand].reshape(1,X.shape[1])\n",
    "        y_rand = y[rand]\n",
    "        \n",
    "        E = x_rand @ Theta - y_rand\n",
    "        return (2.) * x_rand.T @ E\n",
    "    \n",
    "    def fit(self, X, y):\n",
    "        X = self.add_ones(X)\n",
    "        y = np.asarray(y).reshape(-1,1)\n",
    "        \n",
    "        Theta = np.zeros((X.shape[1], 1)) #sane starting Theta\n",
    "\n",
    "        alpha=1e-3\n",
    "        grad_norm = 1.\n",
    "        while (grad_norm > 1e-4):\n",
    "            grad_Theta = self.grad(Theta,X,y)\n",
    "            Theta = Theta - alpha*grad_Theta\n",
    "            \n",
    "            grad_norm = np.linalg.norm(grad_Theta)\n",
    "            \n",
    "        self.ThetaOpt = Theta\n",
    "    \n",
    "    def predict(self, X):\n",
    "        return self.add_ones(X) @ self.ThetaOpt"
   ]
  },
  {
   "cell_type": "code",
   "execution_count": 32,
   "id": "348794c7",
   "metadata": {},
   "outputs": [
    {
     "name": "stdout",
     "output_type": "stream",
     "text": [
      "[[1.05333318]\n",
      " [2.23348564]]\n"
     ]
    }
   ],
   "source": [
    "model = StochasticGradientDescentLinearRegression()\n",
    "model.fit(X,y)\n",
    "print(model.ThetaOpt)"
   ]
  },
  {
   "cell_type": "code",
   "execution_count": 33,
   "id": "b1e399d4",
   "metadata": {},
   "outputs": [
    {
     "ename": "TypeError",
     "evalue": "mean(): argument 'input' (position 1) must be Tensor, not numpy.ndarray",
     "output_type": "error",
     "traceback": [
      "\u001b[0;31m---------------------------------------------------------------------------\u001b[0m",
      "\u001b[0;31mTypeError\u001b[0m                                 Traceback (most recent call last)",
      "Cell \u001b[0;32mIn [33], line 2\u001b[0m\n\u001b[1;32m      1\u001b[0m y_pred \u001b[38;5;241m=\u001b[39m model\u001b[38;5;241m.\u001b[39mpredict(X)\n\u001b[0;32m----> 2\u001b[0m mse(y, y_pred)\n",
      "Cell \u001b[0;32mIn [27], line 2\u001b[0m, in \u001b[0;36mmse\u001b[0;34m(y_pred, y_true)\u001b[0m\n\u001b[1;32m      1\u001b[0m \u001b[38;5;28;01mdef\u001b[39;00m \u001b[38;5;21mmse\u001b[39m( y_pred, y_true):\n\u001b[0;32m----> 2\u001b[0m     \u001b[38;5;28;01mreturn\u001b[39;00m \u001b[43mtorch\u001b[49m\u001b[38;5;241;43m.\u001b[39;49m\u001b[43mmean\u001b[49m\u001b[43m(\u001b[49m\u001b[43m \u001b[49m\u001b[43m(\u001b[49m\u001b[43my_pred\u001b[49m\u001b[43m \u001b[49m\u001b[38;5;241;43m-\u001b[39;49m\u001b[43m \u001b[49m\u001b[43my_true\u001b[49m\u001b[43m)\u001b[49m\u001b[38;5;241;43m*\u001b[39;49m\u001b[38;5;241;43m*\u001b[39;49m\u001b[38;5;241;43m2\u001b[39;49m\u001b[43m)\u001b[49m\n",
      "\u001b[0;31mTypeError\u001b[0m: mean(): argument 'input' (position 1) must be Tensor, not numpy.ndarray"
     ]
    }
   ],
   "source": [
    "y_pred = model.predict(X)\n",
    "mse(y, y_pred)"
   ]
  },
  {
   "cell_type": "code",
   "execution_count": null,
   "id": "c45a7c5b",
   "metadata": {},
   "outputs": [],
   "source": [
    "# plot the length-widt relation\n",
    "sns.scatterplot(x=reg_feature, y=reg_target, data=iris_df)\n",
    "sns.set(rc={'figure.figsize':(8,8)})\n",
    "\n",
    "# plot the proposed relationship\n",
    "length_bounds = np.array(plt.xlim())\n",
    "width_predictions = model.ThetaOpt[1] * length_bounds + model.ThetaOpt[0]\n",
    "\n",
    "plt.plot(length_bounds, width_predictions, color='r')\n",
    "_ = plt.text(0.8, 1.2, f\"$y = x \\cdot {float(model.ThetaOpt[1]):0.2} + {float(model.ThetaOpt[0]):0.2}$\")"
   ]
  },
  {
   "cell_type": "markdown",
   "id": "3998d5f5",
   "metadata": {},
   "source": [
    "## Using an automated optimizer"
   ]
  },
  {
   "cell_type": "markdown",
   "id": "3cc2668e",
   "metadata": {},
   "source": [
    "Writing by hand the optimization loops of gradient descent can be quite problematic sometimes (and sometimes boring). That's why sometimes we can use an automated optimizer which requires us just to give the methods for calculating the loss and a gradient. Let's have a look:"
   ]
  },
  {
   "cell_type": "code",
   "execution_count": 34,
   "id": "24c71128",
   "metadata": {},
   "outputs": [],
   "source": [
    "import scipy.optimize as sopt\n",
    "class BFGSLinearRegression:\n",
    "        \n",
    "    def __init__(self):\n",
    "        pass\n",
    "    \n",
    "    def add_ones(self, X):\n",
    "        return np.hstack((np.ones((X.shape[0],1)), X))\n",
    "    \n",
    "    def grad(self, Theta, X, y):\n",
    "        Theta = Theta.reshape(-1,1) #### that's something new, cause bfgs uses different shape\n",
    "\n",
    "        n = X.shape[0]\n",
    "        E = X @ Theta - y\n",
    "        return (2./n) * X.T @ E\n",
    "    \n",
    "    def loss(self, Theta, X, y):\n",
    "        Theta = Theta.reshape(-1,1) #### that's something new, cause bfgs uses different shape\n",
    "        \n",
    "        n = X.shape[0]\n",
    "        E = X @ Theta - y\n",
    "        return (1./n) * E.T @ E\n",
    "        \n",
    "    def mse_loss_grad(self, Theta, X, y):\n",
    "        return self.loss(Theta, X, y), self.grad(Theta, X, y)\n",
    "    \n",
    "    def fit(self, X, y):\n",
    "        X = self.add_ones(X)\n",
    "        y = np.asarray(y).reshape(-1,1)\n",
    "        \n",
    "        Theta0 = np.zeros((X.shape[1], 1)) \n",
    "\n",
    "        self.ThetaOpt = sopt.fmin_l_bfgs_b( ### and that's something new\n",
    "            lambda Theta: self.mse_loss_grad(Theta, X, y), np.array(Theta0))[0]\n",
    "    \n",
    "    def predict(self, X):\n",
    "        return self.add_ones(X) @ self.ThetaOpt"
   ]
  },
  {
   "cell_type": "code",
   "execution_count": 35,
   "id": "ae5a1b61",
   "metadata": {},
   "outputs": [
    {
     "name": "stdout",
     "output_type": "stream",
     "text": [
      "[1.0835583  2.22994077]\n"
     ]
    }
   ],
   "source": [
    "\n",
    "model = BFGSLinearRegression()\n",
    "model.fit(X,y)\n",
    "print(model.ThetaOpt)"
   ]
  },
  {
   "cell_type": "code",
   "execution_count": 36,
   "id": "75dba7c0",
   "metadata": {},
   "outputs": [
    {
     "data": {
      "image/png": "[encoded data removed]",
      "text/plain": [
       "<Figure size 800x800 with 1 Axes>"
      ]
     },
     "metadata": {},
     "output_type": "display_data"
    }
   ],
   "source": [
    "# plot the length-widt relation\n",
    "sns.scatterplot(x=reg_feature, y=reg_target, data=iris_df)\n",
    "sns.set(rc={'figure.figsize':(8,8)})\n",
    "\n",
    "# plot the proposed relationship\n",
    "length_bounds = np.array(plt.xlim())\n",
    "width_predictions = model.ThetaOpt[1] * length_bounds + model.ThetaOpt[0]\n",
    "\n",
    "plt.plot(length_bounds, width_predictions, color='r')\n",
    "_ = plt.text(0.8, 1.2, f\"$y = x \\cdot {float(model.ThetaOpt[1]):0.2} + {float(model.ThetaOpt[0]):0.2}$\")"
   ]
  },
  {
   "cell_type": "markdown",
   "id": "d60a9440",
   "metadata": {},
   "source": [
    "## Automatic gradient"
   ]
  },
  {
   "cell_type": "markdown",
   "id": "469706b4",
   "metadata": {},
   "source": [
    "Writing your own gradient optimization is already quite problematic. Writing your own gradient calculations is even more problematic once your models are even slightly more complicated than linear or logistic regression. That's why it's incredibly convenient to use automatic differentiation. PyTorch, Keras and Tensorflow are the most popular tools for this (although they offer way more than what we are about to see).\n",
    "When writing simple things like we do, PyTorch is the simplest. So let's check it out."
   ]
  },
  {
   "cell_type": "code",
   "execution_count": 37,
   "id": "658cd69d",
   "metadata": {},
   "outputs": [
    {
     "name": "stdout",
     "output_type": "stream",
     "text": [
      "Requirement already satisfied: torch in /opt/homebrew/lib/python3.10/site-packages (1.13.0)\r\n",
      "Requirement already satisfied: typing-extensions in /opt/homebrew/lib/python3.10/site-packages (from torch) (4.4.0)\r\n"
     ]
    }
   ],
   "source": [
    "!pip install torch"
   ]
  },
  {
   "cell_type": "code",
   "execution_count": 38,
   "id": "103e3c88",
   "metadata": {},
   "outputs": [],
   "source": [
    "import torch \n",
    "\n",
    "X_tensor = torch.tensor(np.asarray(X))\n",
    "y_tensor = torch.tensor(y)"
   ]
  },
  {
   "cell_type": "code",
   "execution_count": 39,
   "id": "f9a8f631",
   "metadata": {},
   "outputs": [
    {
     "data": {
      "text/plain": [
       "tensor([[0.2000],\n",
       "        [0.2000],\n",
       "        [0.2000],\n",
       "        [0.2000],\n",
       "        [0.2000],\n",
       "        [0.4000],\n",
       "        [0.3000],\n",
       "        [0.2000],\n",
       "        [0.2000],\n",
       "        [0.1000],\n",
       "        [0.2000],\n",
       "        [0.2000],\n",
       "        [0.1000],\n",
       "        [0.1000],\n",
       "        [0.2000],\n",
       "        [0.4000],\n",
       "        [0.4000],\n",
       "        [0.3000],\n",
       "        [0.3000],\n",
       "        [0.3000],\n",
       "        [0.2000],\n",
       "        [0.4000],\n",
       "        [0.2000],\n",
       "        [0.5000],\n",
       "        [0.2000],\n",
       "        [0.2000],\n",
       "        [0.4000],\n",
       "        [0.2000],\n",
       "        [0.2000],\n",
       "        [0.2000],\n",
       "        [0.2000],\n",
       "        [0.4000],\n",
       "        [0.1000],\n",
       "        [0.2000],\n",
       "        [0.2000],\n",
       "        [0.2000],\n",
       "        [0.2000],\n",
       "        [0.1000],\n",
       "        [0.2000],\n",
       "        [0.2000],\n",
       "        [0.3000],\n",
       "        [0.3000],\n",
       "        [0.2000],\n",
       "        [0.6000],\n",
       "        [0.4000],\n",
       "        [0.3000],\n",
       "        [0.2000],\n",
       "        [0.2000],\n",
       "        [0.2000],\n",
       "        [0.2000],\n",
       "        [1.4000],\n",
       "        [1.5000],\n",
       "        [1.5000],\n",
       "        [1.3000],\n",
       "        [1.5000],\n",
       "        [1.3000],\n",
       "        [1.6000],\n",
       "        [1.0000],\n",
       "        [1.3000],\n",
       "        [1.4000],\n",
       "        [1.0000],\n",
       "        [1.5000],\n",
       "        [1.0000],\n",
       "        [1.4000],\n",
       "        [1.3000],\n",
       "        [1.4000],\n",
       "        [1.5000],\n",
       "        [1.0000],\n",
       "        [1.5000],\n",
       "        [1.1000],\n",
       "        [1.8000],\n",
       "        [1.3000],\n",
       "        [1.5000],\n",
       "        [1.2000],\n",
       "        [1.3000],\n",
       "        [1.4000],\n",
       "        [1.4000],\n",
       "        [1.7000],\n",
       "        [1.5000],\n",
       "        [1.0000],\n",
       "        [1.1000],\n",
       "        [1.0000],\n",
       "        [1.2000],\n",
       "        [1.6000],\n",
       "        [1.5000],\n",
       "        [1.6000],\n",
       "        [1.5000],\n",
       "        [1.3000],\n",
       "        [1.3000],\n",
       "        [1.3000],\n",
       "        [1.2000],\n",
       "        [1.4000],\n",
       "        [1.2000],\n",
       "        [1.0000],\n",
       "        [1.3000],\n",
       "        [1.2000],\n",
       "        [1.3000],\n",
       "        [1.3000],\n",
       "        [1.1000],\n",
       "        [1.3000],\n",
       "        [2.5000],\n",
       "        [1.9000],\n",
       "        [2.1000],\n",
       "        [1.8000],\n",
       "        [2.2000],\n",
       "        [2.1000],\n",
       "        [1.7000],\n",
       "        [1.8000],\n",
       "        [1.8000],\n",
       "        [2.5000],\n",
       "        [2.0000],\n",
       "        [1.9000],\n",
       "        [2.1000],\n",
       "        [2.0000],\n",
       "        [2.4000],\n",
       "        [2.3000],\n",
       "        [1.8000],\n",
       "        [2.2000],\n",
       "        [2.3000],\n",
       "        [1.5000],\n",
       "        [2.3000],\n",
       "        [2.0000],\n",
       "        [2.0000],\n",
       "        [1.8000],\n",
       "        [2.1000],\n",
       "        [1.8000],\n",
       "        [1.8000],\n",
       "        [1.8000],\n",
       "        [2.1000],\n",
       "        [1.6000],\n",
       "        [1.9000],\n",
       "        [2.0000],\n",
       "        [2.2000],\n",
       "        [1.5000],\n",
       "        [1.4000],\n",
       "        [2.3000],\n",
       "        [2.4000],\n",
       "        [1.8000],\n",
       "        [1.8000],\n",
       "        [2.1000],\n",
       "        [2.4000],\n",
       "        [2.3000],\n",
       "        [1.9000],\n",
       "        [2.3000],\n",
       "        [2.5000],\n",
       "        [2.3000],\n",
       "        [1.9000],\n",
       "        [2.0000],\n",
       "        [2.3000],\n",
       "        [1.8000]], dtype=torch.float64)"
      ]
     },
     "execution_count": 39,
     "metadata": {},
     "output_type": "execute_result"
    }
   ],
   "source": [
    "X_tensor"
   ]
  },
  {
   "cell_type": "code",
   "execution_count": 40,
   "id": "882d34ba",
   "metadata": {},
   "outputs": [
    {
     "data": {
      "text/plain": [
       "tensor([[1.4000],\n",
       "        [1.4000],\n",
       "        [1.3000],\n",
       "        [1.5000],\n",
       "        [1.4000],\n",
       "        [1.7000],\n",
       "        [1.4000],\n",
       "        [1.5000],\n",
       "        [1.4000],\n",
       "        [1.5000],\n",
       "        [1.5000],\n",
       "        [1.6000],\n",
       "        [1.4000],\n",
       "        [1.1000],\n",
       "        [1.2000],\n",
       "        [1.5000],\n",
       "        [1.3000],\n",
       "        [1.4000],\n",
       "        [1.7000],\n",
       "        [1.5000],\n",
       "        [1.7000],\n",
       "        [1.5000],\n",
       "        [1.0000],\n",
       "        [1.7000],\n",
       "        [1.9000],\n",
       "        [1.6000],\n",
       "        [1.6000],\n",
       "        [1.5000],\n",
       "        [1.4000],\n",
       "        [1.6000],\n",
       "        [1.6000],\n",
       "        [1.5000],\n",
       "        [1.5000],\n",
       "        [1.4000],\n",
       "        [1.5000],\n",
       "        [1.2000],\n",
       "        [1.3000],\n",
       "        [1.4000],\n",
       "        [1.3000],\n",
       "        [1.5000],\n",
       "        [1.3000],\n",
       "        [1.3000],\n",
       "        [1.3000],\n",
       "        [1.6000],\n",
       "        [1.9000],\n",
       "        [1.4000],\n",
       "        [1.6000],\n",
       "        [1.4000],\n",
       "        [1.5000],\n",
       "        [1.4000],\n",
       "        [4.7000],\n",
       "        [4.5000],\n",
       "        [4.9000],\n",
       "        [4.0000],\n",
       "        [4.6000],\n",
       "        [4.5000],\n",
       "        [4.7000],\n",
       "        [3.3000],\n",
       "        [4.6000],\n",
       "        [3.9000],\n",
       "        [3.5000],\n",
       "        [4.2000],\n",
       "        [4.0000],\n",
       "        [4.7000],\n",
       "        [3.6000],\n",
       "        [4.4000],\n",
       "        [4.5000],\n",
       "        [4.1000],\n",
       "        [4.5000],\n",
       "        [3.9000],\n",
       "        [4.8000],\n",
       "        [4.0000],\n",
       "        [4.9000],\n",
       "        [4.7000],\n",
       "        [4.3000],\n",
       "        [4.4000],\n",
       "        [4.8000],\n",
       "        [5.0000],\n",
       "        [4.5000],\n",
       "        [3.5000],\n",
       "        [3.8000],\n",
       "        [3.7000],\n",
       "        [3.9000],\n",
       "        [5.1000],\n",
       "        [4.5000],\n",
       "        [4.5000],\n",
       "        [4.7000],\n",
       "        [4.4000],\n",
       "        [4.1000],\n",
       "        [4.0000],\n",
       "        [4.4000],\n",
       "        [4.6000],\n",
       "        [4.0000],\n",
       "        [3.3000],\n",
       "        [4.2000],\n",
       "        [4.2000],\n",
       "        [4.2000],\n",
       "        [4.3000],\n",
       "        [3.0000],\n",
       "        [4.1000],\n",
       "        [6.0000],\n",
       "        [5.1000],\n",
       "        [5.9000],\n",
       "        [5.6000],\n",
       "        [5.8000],\n",
       "        [6.6000],\n",
       "        [4.5000],\n",
       "        [6.3000],\n",
       "        [5.8000],\n",
       "        [6.1000],\n",
       "        [5.1000],\n",
       "        [5.3000],\n",
       "        [5.5000],\n",
       "        [5.0000],\n",
       "        [5.1000],\n",
       "        [5.3000],\n",
       "        [5.5000],\n",
       "        [6.7000],\n",
       "        [6.9000],\n",
       "        [5.0000],\n",
       "        [5.7000],\n",
       "        [4.9000],\n",
       "        [6.7000],\n",
       "        [4.9000],\n",
       "        [5.7000],\n",
       "        [6.0000],\n",
       "        [4.8000],\n",
       "        [4.9000],\n",
       "        [5.6000],\n",
       "        [5.8000],\n",
       "        [6.1000],\n",
       "        [6.4000],\n",
       "        [5.6000],\n",
       "        [5.1000],\n",
       "        [5.6000],\n",
       "        [6.1000],\n",
       "        [5.6000],\n",
       "        [5.5000],\n",
       "        [4.8000],\n",
       "        [5.4000],\n",
       "        [5.6000],\n",
       "        [5.1000],\n",
       "        [5.1000],\n",
       "        [5.9000],\n",
       "        [5.7000],\n",
       "        [5.2000],\n",
       "        [5.0000],\n",
       "        [5.2000],\n",
       "        [5.4000],\n",
       "        [5.1000]], dtype=torch.float64)"
      ]
     },
     "execution_count": 40,
     "metadata": {},
     "output_type": "execute_result"
    }
   ],
   "source": [
    "y_tensor"
   ]
  },
  {
   "cell_type": "code",
   "execution_count": 41,
   "id": "732d7cd9",
   "metadata": {},
   "outputs": [
    {
     "data": {
      "text/plain": [
       "(torch.Size([150, 1]), torch.Size([150, 1]))"
      ]
     },
     "execution_count": 41,
     "metadata": {},
     "output_type": "execute_result"
    }
   ],
   "source": [
    "X_tensor.shape, y_tensor.shape"
   ]
  },
  {
   "cell_type": "code",
   "execution_count": 42,
   "id": "7266d4a4",
   "metadata": {},
   "outputs": [
    {
     "name": "stdout",
     "output_type": "stream",
     "text": [
      "tensor([0.5005], requires_grad=True)\n",
      "tensor([0.9717], requires_grad=True)\n"
     ]
    }
   ],
   "source": [
    "a = torch.randn(1, requires_grad=True)\n",
    "b = torch.randn(1, requires_grad=True)\n",
    "print(a)\n",
    "print(b)"
   ]
  },
  {
   "cell_type": "markdown",
   "id": "8a944ee7",
   "metadata": {},
   "source": [
    "The following cell calculates the gradient of Mean Square error loss in a given Theta:"
   ]
  },
  {
   "cell_type": "code",
   "execution_count": 43,
   "id": "8acee9f5",
   "metadata": {},
   "outputs": [
    {
     "name": "stdout",
     "output_type": "stream",
     "text": [
      "tensor([-7.2397]) tensor([-4.3720])\n"
     ]
    }
   ],
   "source": [
    "loss = (( X_tensor * a + b - y_tensor)**2).mean() #calculate the loss\n",
    "loss.backward() #calculate the gradient of all variables that require_grad\n",
    "with torch.no_grad(): #freeze the computational graph of derivatives\n",
    "    print(a.grad, b.grad) #print out the gradient"
   ]
  },
  {
   "cell_type": "markdown",
   "id": "b367c41e",
   "metadata": {},
   "source": [
    "And that's it. Now we just have to do it in a loop to do the gradient descent."
   ]
  },
  {
   "cell_type": "code",
   "execution_count": 44,
   "id": "e0d70cd6",
   "metadata": {},
   "outputs": [],
   "source": [
    "#usually this function is called `forward` in pytorch although in our context it was always called `predict`\n",
    "def model(X): \n",
    "    return X * a + b"
   ]
  },
  {
   "cell_type": "code",
   "execution_count": 45,
   "id": "c1b4da14",
   "metadata": {},
   "outputs": [],
   "source": [
    "def mse( y_pred, y_true):\n",
    "    return torch.mean( (y_pred - y_true)**2)\n",
    "\n",
    "loss_func = mse"
   ]
  },
  {
   "cell_type": "code",
   "execution_count": 46,
   "id": "bd877c9e",
   "metadata": {},
   "outputs": [],
   "source": [
    "alpha = 0.05\n",
    "\n",
    "for i in range(1000):\n",
    "    #loss =  (( X_tensor * a + b - y_tensor)**2).mean() \n",
    "    loss = loss_func(model(X_tensor), y_tensor) # calculate the loss in a given Theta\n",
    "    loss.backward() #calculate the gradients in a given Theta\n",
    "    with torch.no_grad(): #turn off gradient calculations to update the gradients\n",
    "        a -= a.grad * alpha\n",
    "        b -= b.grad * alpha\n",
    "        a.grad.zero_() #zero the gradients once used\n",
    "        b.grad.zero_()\n"
   ]
  },
  {
   "cell_type": "code",
   "execution_count": 47,
   "id": "0b49750f",
   "metadata": {},
   "outputs": [],
   "source": [
    "Theta = np.asarray( [b.detach().numpy(), a.detach().numpy()]) \n",
    "#a and b are still active variables in the computational graph of derivatives\n",
    "#that's why we need to .detach() before accesing their values"
   ]
  },
  {
   "cell_type": "code",
   "execution_count": 48,
   "id": "381dc82f",
   "metadata": {},
   "outputs": [
    {
     "data": {
      "image/png": "[encoded data removed]",
      "text/plain": [
       "<Figure size 800x800 with 1 Axes>"
      ]
     },
     "metadata": {},
     "output_type": "display_data"
    }
   ],
   "source": [
    "# plot the length-widt relation\n",
    "sns.scatterplot(x=reg_feature, y=reg_target, data=iris_df)\n",
    "sns.set(rc={'figure.figsize':(8,8)})\n",
    "\n",
    "# plot the proposed relationship\n",
    "length_bounds = np.array(plt.xlim())\n",
    "width_predictions = Theta[1] * length_bounds + Theta[0]\n",
    "\n",
    "plt.plot(length_bounds, width_predictions, color='r')\n",
    "_ = plt.text(0.8, 1.2, f\"$y = x \\cdot {float(Theta[1]):0.2} + {float(Theta[0]):0.2}$\")"
   ]
  },
  {
   "cell_type": "markdown",
   "id": "89b41248",
   "metadata": {},
   "source": [
    "# MNIST"
   ]
  },
  {
   "cell_type": "markdown",
   "id": "fdb4dd45",
   "metadata": {},
   "source": [
    "Remember to use `SoftMax` in all of the below exercises."
   ]
  },
  {
   "cell_type": "markdown",
   "id": "d110c5eb",
   "metadata": {},
   "source": [
    "## Problem 1 [2p]"
   ]
  },
  {
   "cell_type": "markdown",
   "id": "1b4183fc",
   "metadata": {},
   "source": [
    "Implement the stochastic gradient descent for MNIST as in `StochasticGradientDescentLinearRegression`. **Remark** it may be better for training to sample not one $x^{\\mbox{rand}}$ but a small subset of the $X$ data to get better estimations of the gradient."
   ]
  },
  {
   "cell_type": "markdown",
   "id": "bb60e2a5",
   "metadata": {},
   "source": [
    "## Problem 2 [2p]"
   ]
  },
  {
   "cell_type": "markdown",
   "id": "52b2cef4",
   "metadata": {},
   "source": [
    "Implement the stochastic gradient descent for MNIST as in `BFGSLinearRegression`. Also here calculate the gradient using a subset of the data, and not the whole $X$. Answer the question of how small the size of the subset can roughly be in order to give convergence of the training. Don't give incredibly precise answer, just an order of magnitude is enough: is it 10, 50, 100, 500, 1000?"
   ]
  },
  {
   "cell_type": "markdown",
   "id": "287c14d6",
   "metadata": {},
   "source": [
    "## Problem 3 [2p]"
   ]
  },
  {
   "cell_type": "markdown",
   "id": "59b0bb2c",
   "metadata": {},
   "source": [
    "Implement the stochastic gradient descent for MNIST using PyTorch."
   ]
  }
 ],
 "metadata": {
  "kernelspec": {
   "display_name": "ml_uwr venv",
   "language": "python",
   "name": "other-env"
  },
  "language_info": {
   "codemirror_mode": {
    "name": "ipython",
    "version": 3
   },
   "file_extension": ".py",
   "mimetype": "text/x-python",
   "name": "python",
   "nbconvert_exporter": "python",
   "pygments_lexer": "ipython3",
   "version": "3.8.9"
  }
 },
 "nbformat": 4,
 "nbformat_minor": 5
}
